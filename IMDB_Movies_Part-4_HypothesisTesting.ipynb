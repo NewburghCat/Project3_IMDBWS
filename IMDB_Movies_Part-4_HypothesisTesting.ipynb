{
 "cells": [
  {
   "cell_type": "markdown",
   "id": "f2eb923f",
   "metadata": {},
   "source": [
    "IMDB_Movies Hypothesis Testing "
   ]
  },
  {
   "cell_type": "markdown",
   "id": "dfadae61",
   "metadata": {},
   "source": [
    "1. The stakeholder's first question is: does the MPAA rating of a movie (G/PG/PG-13/R) affect how much revenue the movie generates?\n",
    "\n",
    "* They want you to perform a statistical test to get a mathematically-supported answer.\n",
    "\n",
    "* They want you to report if you found a significant difference between ratings.\n",
    "\n",
    "> . If so, what was the p-value of you analysis?\n",
    "\n",
    "> . And which rating earns the most revenue?"
   ]
  },
  {
   "cell_type": "code",
   "execution_count": 1,
   "id": "05fb7c01",
   "metadata": {},
   "outputs": [
    {
     "data": {
      "text/plain": [
       "'1.8.1'"
      ]
     },
     "execution_count": 1,
     "metadata": {},
     "output_type": "execute_result"
    }
   ],
   "source": [
    "# import libraires \n",
    "import json\n",
    "import pandas as pd\n",
    "import numpy as np\n",
    "\n",
    "import matplotlib.pyplot as plt\n",
    "import seaborn as sns\n",
    "\n",
    "from scipy import stats\n",
    "import scipy\n",
    "scipy.__version__"
   ]
  },
  {
   "cell_type": "code",
   "execution_count": 2,
   "id": "626730fd",
   "metadata": {},
   "outputs": [
    {
     "data": {
      "text/html": [
       "<div>\n",
       "<style scoped>\n",
       "    .dataframe tbody tr th:only-of-type {\n",
       "        vertical-align: middle;\n",
       "    }\n",
       "\n",
       "    .dataframe tbody tr th {\n",
       "        vertical-align: top;\n",
       "    }\n",
       "\n",
       "    .dataframe thead th {\n",
       "        text-align: right;\n",
       "    }\n",
       "</style>\n",
       "<table border=\"1\" class=\"dataframe\">\n",
       "  <thead>\n",
       "    <tr style=\"text-align: right;\">\n",
       "      <th></th>\n",
       "      <th>imdb_id</th>\n",
       "      <th>adult</th>\n",
       "      <th>backdrop_path</th>\n",
       "      <th>belongs_to_collection</th>\n",
       "      <th>budget</th>\n",
       "      <th>genres</th>\n",
       "      <th>homepage</th>\n",
       "      <th>id</th>\n",
       "      <th>original_language</th>\n",
       "      <th>original_title</th>\n",
       "      <th>...</th>\n",
       "      <th>revenue</th>\n",
       "      <th>runtime</th>\n",
       "      <th>spoken_languages</th>\n",
       "      <th>status</th>\n",
       "      <th>tagline</th>\n",
       "      <th>title</th>\n",
       "      <th>video</th>\n",
       "      <th>vote_average</th>\n",
       "      <th>vote_count</th>\n",
       "      <th>certification</th>\n",
       "    </tr>\n",
       "  </thead>\n",
       "  <tbody>\n",
       "    <tr>\n",
       "      <th>0</th>\n",
       "      <td>tt0113026</td>\n",
       "      <td>0.0</td>\n",
       "      <td>/vMFs7nw6P0bIV1jDsQpxAieAVnH.jpg</td>\n",
       "      <td>NaN</td>\n",
       "      <td>10000000.0</td>\n",
       "      <td>[{'id': 35, 'name': 'Comedy'}, {'id': 10402, '...</td>\n",
       "      <td>NaN</td>\n",
       "      <td>62127.0</td>\n",
       "      <td>en</td>\n",
       "      <td>The Fantasticks</td>\n",
       "      <td>...</td>\n",
       "      <td>0.0</td>\n",
       "      <td>86.0</td>\n",
       "      <td>[{'english_name': 'English', 'iso_639_1': 'en'...</td>\n",
       "      <td>Released</td>\n",
       "      <td>Try to remember the first time magic happened</td>\n",
       "      <td>The Fantasticks</td>\n",
       "      <td>0.0</td>\n",
       "      <td>5.4</td>\n",
       "      <td>21.0</td>\n",
       "      <td>NaN</td>\n",
       "    </tr>\n",
       "    <tr>\n",
       "      <th>1</th>\n",
       "      <td>tt0113092</td>\n",
       "      <td>0.0</td>\n",
       "      <td>NaN</td>\n",
       "      <td>NaN</td>\n",
       "      <td>0.0</td>\n",
       "      <td>[{'id': 878, 'name': 'Science Fiction'}]</td>\n",
       "      <td>NaN</td>\n",
       "      <td>110977.0</td>\n",
       "      <td>en</td>\n",
       "      <td>For the Cause</td>\n",
       "      <td>...</td>\n",
       "      <td>0.0</td>\n",
       "      <td>100.0</td>\n",
       "      <td>[{'english_name': 'English', 'iso_639_1': 'en'...</td>\n",
       "      <td>Released</td>\n",
       "      <td>The ultimate showdown on a forbidden planet.</td>\n",
       "      <td>For the Cause</td>\n",
       "      <td>0.0</td>\n",
       "      <td>4.4</td>\n",
       "      <td>7.0</td>\n",
       "      <td>NaN</td>\n",
       "    </tr>\n",
       "    <tr>\n",
       "      <th>2</th>\n",
       "      <td>tt0116391</td>\n",
       "      <td>0.0</td>\n",
       "      <td>NaN</td>\n",
       "      <td>NaN</td>\n",
       "      <td>0.0</td>\n",
       "      <td>[{'id': 18, 'name': 'Drama'}, {'id': 28, 'name...</td>\n",
       "      <td>NaN</td>\n",
       "      <td>442869.0</td>\n",
       "      <td>hi</td>\n",
       "      <td>Gang</td>\n",
       "      <td>...</td>\n",
       "      <td>0.0</td>\n",
       "      <td>152.0</td>\n",
       "      <td>[{'english_name': 'Hindi', 'iso_639_1': 'hi', ...</td>\n",
       "      <td>Released</td>\n",
       "      <td>NaN</td>\n",
       "      <td>Gang</td>\n",
       "      <td>0.0</td>\n",
       "      <td>0.0</td>\n",
       "      <td>0.0</td>\n",
       "      <td>NaN</td>\n",
       "    </tr>\n",
       "    <tr>\n",
       "      <th>3</th>\n",
       "      <td>tt0118694</td>\n",
       "      <td>0.0</td>\n",
       "      <td>/n4GJFGzsc7NinI1VeGDXIcQjtU2.jpg</td>\n",
       "      <td>NaN</td>\n",
       "      <td>150000.0</td>\n",
       "      <td>[{'id': 18, 'name': 'Drama'}, {'id': 10749, 'n...</td>\n",
       "      <td>http://www.wkw-inthemoodforlove.com/</td>\n",
       "      <td>843.0</td>\n",
       "      <td>cn</td>\n",
       "      <td>花樣年華</td>\n",
       "      <td>...</td>\n",
       "      <td>12854953.0</td>\n",
       "      <td>99.0</td>\n",
       "      <td>[{'english_name': 'Cantonese', 'iso_639_1': 'c...</td>\n",
       "      <td>Released</td>\n",
       "      <td>Feel the heat, keep the feeling burning, let t...</td>\n",
       "      <td>In the Mood for Love</td>\n",
       "      <td>0.0</td>\n",
       "      <td>8.1</td>\n",
       "      <td>1868.0</td>\n",
       "      <td>PG</td>\n",
       "    </tr>\n",
       "    <tr>\n",
       "      <th>4</th>\n",
       "      <td>tt0118852</td>\n",
       "      <td>0.0</td>\n",
       "      <td>NaN</td>\n",
       "      <td>NaN</td>\n",
       "      <td>0.0</td>\n",
       "      <td>[{'id': 18, 'name': 'Drama'}]</td>\n",
       "      <td>NaN</td>\n",
       "      <td>49511.0</td>\n",
       "      <td>en</td>\n",
       "      <td>Chinese Coffee</td>\n",
       "      <td>...</td>\n",
       "      <td>0.0</td>\n",
       "      <td>99.0</td>\n",
       "      <td>[{'english_name': 'English', 'iso_639_1': 'en'...</td>\n",
       "      <td>Released</td>\n",
       "      <td>There's a fine line between friendship and bet...</td>\n",
       "      <td>Chinese Coffee</td>\n",
       "      <td>0.0</td>\n",
       "      <td>6.9</td>\n",
       "      <td>46.0</td>\n",
       "      <td>R</td>\n",
       "    </tr>\n",
       "    <tr>\n",
       "      <th>...</th>\n",
       "      <td>...</td>\n",
       "      <td>...</td>\n",
       "      <td>...</td>\n",
       "      <td>...</td>\n",
       "      <td>...</td>\n",
       "      <td>...</td>\n",
       "      <td>...</td>\n",
       "      <td>...</td>\n",
       "      <td>...</td>\n",
       "      <td>...</td>\n",
       "      <td>...</td>\n",
       "      <td>...</td>\n",
       "      <td>...</td>\n",
       "      <td>...</td>\n",
       "      <td>...</td>\n",
       "      <td>...</td>\n",
       "      <td>...</td>\n",
       "      <td>...</td>\n",
       "      <td>...</td>\n",
       "      <td>...</td>\n",
       "      <td>...</td>\n",
       "    </tr>\n",
       "    <tr>\n",
       "      <th>60125</th>\n",
       "      <td>tt9895024</td>\n",
       "      <td>0.0</td>\n",
       "      <td>/S1kutYyoyuBJKGS0mXxv2fZNbr.jpg</td>\n",
       "      <td>NaN</td>\n",
       "      <td>0.0</td>\n",
       "      <td>[{'id': 18, 'name': 'Drama'}, {'id': 35, 'name...</td>\n",
       "      <td>NaN</td>\n",
       "      <td>834443.0</td>\n",
       "      <td>de</td>\n",
       "      <td>Heikos Welt</td>\n",
       "      <td>...</td>\n",
       "      <td>0.0</td>\n",
       "      <td>118.0</td>\n",
       "      <td>[{'english_name': 'German', 'iso_639_1': 'de',...</td>\n",
       "      <td>Released</td>\n",
       "      <td>NaN</td>\n",
       "      <td>Heiko's World</td>\n",
       "      <td>0.0</td>\n",
       "      <td>0.0</td>\n",
       "      <td>0.0</td>\n",
       "      <td>NaN</td>\n",
       "    </tr>\n",
       "    <tr>\n",
       "      <th>60126</th>\n",
       "      <td>tt9896876</td>\n",
       "      <td>0.0</td>\n",
       "      <td>/hMvRbT6HOqERhh3K8kXbaLz9LlZ.jpg</td>\n",
       "      <td>NaN</td>\n",
       "      <td>0.0</td>\n",
       "      <td>[{'id': 35, 'name': 'Comedy'}, {'id': 18, 'nam...</td>\n",
       "      <td>NaN</td>\n",
       "      <td>821493.0</td>\n",
       "      <td>en</td>\n",
       "      <td>India Sweets and Spices</td>\n",
       "      <td>...</td>\n",
       "      <td>0.0</td>\n",
       "      <td>101.0</td>\n",
       "      <td>[{'english_name': 'English', 'iso_639_1': 'en'...</td>\n",
       "      <td>Released</td>\n",
       "      <td>Let the aunties talk.</td>\n",
       "      <td>India Sweets and Spices</td>\n",
       "      <td>0.0</td>\n",
       "      <td>6.0</td>\n",
       "      <td>2.0</td>\n",
       "      <td>PG-13</td>\n",
       "    </tr>\n",
       "    <tr>\n",
       "      <th>60127</th>\n",
       "      <td>tt9898844</td>\n",
       "      <td>0.0</td>\n",
       "      <td>/q2KFBGyUSzHDhNqXEYv2LqTWVSz.jpg</td>\n",
       "      <td>NaN</td>\n",
       "      <td>0.0</td>\n",
       "      <td>[{'id': 27, 'name': 'Horror'}]</td>\n",
       "      <td>NaN</td>\n",
       "      <td>870671.0</td>\n",
       "      <td>en</td>\n",
       "      <td>The Hunting</td>\n",
       "      <td>...</td>\n",
       "      <td>0.0</td>\n",
       "      <td>91.0</td>\n",
       "      <td>[{'english_name': 'English', 'iso_639_1': 'en'...</td>\n",
       "      <td>Released</td>\n",
       "      <td>Hunger runs deep.</td>\n",
       "      <td>The Hunting</td>\n",
       "      <td>0.0</td>\n",
       "      <td>4.9</td>\n",
       "      <td>20.0</td>\n",
       "      <td>NaN</td>\n",
       "    </tr>\n",
       "    <tr>\n",
       "      <th>60128</th>\n",
       "      <td>tt9900940</td>\n",
       "      <td>0.0</td>\n",
       "      <td>/3jjWLg5bevWqReyVroYqxwVrH0k.jpg</td>\n",
       "      <td>NaN</td>\n",
       "      <td>0.0</td>\n",
       "      <td>[{'id': 80, 'name': 'Crime'}, {'id': 18, 'name...</td>\n",
       "      <td>NaN</td>\n",
       "      <td>861294.0</td>\n",
       "      <td>en</td>\n",
       "      <td>The Scrapper</td>\n",
       "      <td>...</td>\n",
       "      <td>0.0</td>\n",
       "      <td>87.0</td>\n",
       "      <td>[{'english_name': 'English', 'iso_639_1': 'en'...</td>\n",
       "      <td>Released</td>\n",
       "      <td>You can't escape your past.</td>\n",
       "      <td>The Scrapper</td>\n",
       "      <td>0.0</td>\n",
       "      <td>6.0</td>\n",
       "      <td>2.0</td>\n",
       "      <td>NaN</td>\n",
       "    </tr>\n",
       "    <tr>\n",
       "      <th>60129</th>\n",
       "      <td>tt9907782</td>\n",
       "      <td>0.0</td>\n",
       "      <td>/gRTYArznK1MLAq7opC1tYHnTwM3.jpg</td>\n",
       "      <td>NaN</td>\n",
       "      <td>0.0</td>\n",
       "      <td>[{'id': 27, 'name': 'Horror'}, {'id': 14, 'nam...</td>\n",
       "      <td>NaN</td>\n",
       "      <td>630392.0</td>\n",
       "      <td>en</td>\n",
       "      <td>The Cursed</td>\n",
       "      <td>...</td>\n",
       "      <td>4588389.0</td>\n",
       "      <td>111.0</td>\n",
       "      <td>[{'english_name': 'English', 'iso_639_1': 'en'...</td>\n",
       "      <td>Released</td>\n",
       "      <td>NaN</td>\n",
       "      <td>The Cursed</td>\n",
       "      <td>0.0</td>\n",
       "      <td>7.0</td>\n",
       "      <td>55.0</td>\n",
       "      <td>R</td>\n",
       "    </tr>\n",
       "  </tbody>\n",
       "</table>\n",
       "<p>60130 rows × 26 columns</p>\n",
       "</div>"
      ],
      "text/plain": [
       "         imdb_id  adult                     backdrop_path  \\\n",
       "0      tt0113026    0.0  /vMFs7nw6P0bIV1jDsQpxAieAVnH.jpg   \n",
       "1      tt0113092    0.0                               NaN   \n",
       "2      tt0116391    0.0                               NaN   \n",
       "3      tt0118694    0.0  /n4GJFGzsc7NinI1VeGDXIcQjtU2.jpg   \n",
       "4      tt0118852    0.0                               NaN   \n",
       "...          ...    ...                               ...   \n",
       "60125  tt9895024    0.0   /S1kutYyoyuBJKGS0mXxv2fZNbr.jpg   \n",
       "60126  tt9896876    0.0  /hMvRbT6HOqERhh3K8kXbaLz9LlZ.jpg   \n",
       "60127  tt9898844    0.0  /q2KFBGyUSzHDhNqXEYv2LqTWVSz.jpg   \n",
       "60128  tt9900940    0.0  /3jjWLg5bevWqReyVroYqxwVrH0k.jpg   \n",
       "60129  tt9907782    0.0  /gRTYArznK1MLAq7opC1tYHnTwM3.jpg   \n",
       "\n",
       "      belongs_to_collection      budget  \\\n",
       "0                       NaN  10000000.0   \n",
       "1                       NaN         0.0   \n",
       "2                       NaN         0.0   \n",
       "3                       NaN    150000.0   \n",
       "4                       NaN         0.0   \n",
       "...                     ...         ...   \n",
       "60125                   NaN         0.0   \n",
       "60126                   NaN         0.0   \n",
       "60127                   NaN         0.0   \n",
       "60128                   NaN         0.0   \n",
       "60129                   NaN         0.0   \n",
       "\n",
       "                                                  genres  \\\n",
       "0      [{'id': 35, 'name': 'Comedy'}, {'id': 10402, '...   \n",
       "1               [{'id': 878, 'name': 'Science Fiction'}]   \n",
       "2      [{'id': 18, 'name': 'Drama'}, {'id': 28, 'name...   \n",
       "3      [{'id': 18, 'name': 'Drama'}, {'id': 10749, 'n...   \n",
       "4                          [{'id': 18, 'name': 'Drama'}]   \n",
       "...                                                  ...   \n",
       "60125  [{'id': 18, 'name': 'Drama'}, {'id': 35, 'name...   \n",
       "60126  [{'id': 35, 'name': 'Comedy'}, {'id': 18, 'nam...   \n",
       "60127                     [{'id': 27, 'name': 'Horror'}]   \n",
       "60128  [{'id': 80, 'name': 'Crime'}, {'id': 18, 'name...   \n",
       "60129  [{'id': 27, 'name': 'Horror'}, {'id': 14, 'nam...   \n",
       "\n",
       "                                   homepage        id original_language  \\\n",
       "0                                       NaN   62127.0                en   \n",
       "1                                       NaN  110977.0                en   \n",
       "2                                       NaN  442869.0                hi   \n",
       "3      http://www.wkw-inthemoodforlove.com/     843.0                cn   \n",
       "4                                       NaN   49511.0                en   \n",
       "...                                     ...       ...               ...   \n",
       "60125                                   NaN  834443.0                de   \n",
       "60126                                   NaN  821493.0                en   \n",
       "60127                                   NaN  870671.0                en   \n",
       "60128                                   NaN  861294.0                en   \n",
       "60129                                   NaN  630392.0                en   \n",
       "\n",
       "                original_title  ...     revenue  runtime  \\\n",
       "0              The Fantasticks  ...         0.0     86.0   \n",
       "1                For the Cause  ...         0.0    100.0   \n",
       "2                         Gang  ...         0.0    152.0   \n",
       "3                         花樣年華  ...  12854953.0     99.0   \n",
       "4               Chinese Coffee  ...         0.0     99.0   \n",
       "...                        ...  ...         ...      ...   \n",
       "60125              Heikos Welt  ...         0.0    118.0   \n",
       "60126  India Sweets and Spices  ...         0.0    101.0   \n",
       "60127              The Hunting  ...         0.0     91.0   \n",
       "60128             The Scrapper  ...         0.0     87.0   \n",
       "60129               The Cursed  ...   4588389.0    111.0   \n",
       "\n",
       "                                        spoken_languages    status  \\\n",
       "0      [{'english_name': 'English', 'iso_639_1': 'en'...  Released   \n",
       "1      [{'english_name': 'English', 'iso_639_1': 'en'...  Released   \n",
       "2      [{'english_name': 'Hindi', 'iso_639_1': 'hi', ...  Released   \n",
       "3      [{'english_name': 'Cantonese', 'iso_639_1': 'c...  Released   \n",
       "4      [{'english_name': 'English', 'iso_639_1': 'en'...  Released   \n",
       "...                                                  ...       ...   \n",
       "60125  [{'english_name': 'German', 'iso_639_1': 'de',...  Released   \n",
       "60126  [{'english_name': 'English', 'iso_639_1': 'en'...  Released   \n",
       "60127  [{'english_name': 'English', 'iso_639_1': 'en'...  Released   \n",
       "60128  [{'english_name': 'English', 'iso_639_1': 'en'...  Released   \n",
       "60129  [{'english_name': 'English', 'iso_639_1': 'en'...  Released   \n",
       "\n",
       "                                                 tagline  \\\n",
       "0          Try to remember the first time magic happened   \n",
       "1           The ultimate showdown on a forbidden planet.   \n",
       "2                                                    NaN   \n",
       "3      Feel the heat, keep the feeling burning, let t...   \n",
       "4      There's a fine line between friendship and bet...   \n",
       "...                                                  ...   \n",
       "60125                                                NaN   \n",
       "60126                              Let the aunties talk.   \n",
       "60127                                  Hunger runs deep.   \n",
       "60128                        You can't escape your past.   \n",
       "60129                                                NaN   \n",
       "\n",
       "                         title  video  vote_average vote_count certification  \n",
       "0              The Fantasticks    0.0           5.4       21.0           NaN  \n",
       "1                For the Cause    0.0           4.4        7.0           NaN  \n",
       "2                         Gang    0.0           0.0        0.0           NaN  \n",
       "3         In the Mood for Love    0.0           8.1     1868.0            PG  \n",
       "4               Chinese Coffee    0.0           6.9       46.0             R  \n",
       "...                        ...    ...           ...        ...           ...  \n",
       "60125            Heiko's World    0.0           0.0        0.0           NaN  \n",
       "60126  India Sweets and Spices    0.0           6.0        2.0         PG-13  \n",
       "60127              The Hunting    0.0           4.9       20.0           NaN  \n",
       "60128             The Scrapper    0.0           6.0        2.0           NaN  \n",
       "60129               The Cursed    0.0           7.0       55.0             R  \n",
       "\n",
       "[60130 rows x 26 columns]"
      ]
     },
     "execution_count": 2,
     "metadata": {},
     "output_type": "execute_result"
    }
   ],
   "source": [
    "# loaded the tmdb combined dataframe \n",
    "file = 'In_progress/DataClean/combined_tmdb_d.csv.gz'\n",
    "df = pd.read_csv(file,lineterminator='\\n')\n",
    "df"
   ]
  },
  {
   "cell_type": "code",
   "execution_count": 3,
   "id": "f62194ed",
   "metadata": {},
   "outputs": [
    {
     "name": "stdout",
     "output_type": "stream",
     "text": [
      "<class 'pandas.core.frame.DataFrame'>\n",
      "RangeIndex: 60130 entries, 0 to 60129\n",
      "Data columns (total 26 columns):\n",
      " #   Column                 Non-Null Count  Dtype  \n",
      "---  ------                 --------------  -----  \n",
      " 0   imdb_id                60130 non-null  object \n",
      " 1   adult                  60130 non-null  float64\n",
      " 2   backdrop_path          36994 non-null  object \n",
      " 3   belongs_to_collection  3738 non-null   object \n",
      " 4   budget                 60130 non-null  float64\n",
      " 5   genres                 60130 non-null  object \n",
      " 6   homepage               14776 non-null  object \n",
      " 7   id                     60130 non-null  float64\n",
      " 8   original_language      60130 non-null  object \n",
      " 9   original_title         60130 non-null  object \n",
      " 10  overview               58761 non-null  object \n",
      " 11  popularity             60130 non-null  float64\n",
      " 12  poster_path            54382 non-null  object \n",
      " 13  production_companies   60130 non-null  object \n",
      " 14  production_countries   60130 non-null  object \n",
      " 15  release_date           59078 non-null  object \n",
      " 16  revenue                60130 non-null  float64\n",
      " 17  runtime                59298 non-null  float64\n",
      " 18  spoken_languages       60130 non-null  object \n",
      " 19  status                 60130 non-null  object \n",
      " 20  tagline                22079 non-null  object \n",
      " 21  title                  60130 non-null  object \n",
      " 22  video                  60130 non-null  float64\n",
      " 23  vote_average           60130 non-null  float64\n",
      " 24  vote_count             60130 non-null  float64\n",
      " 25  certification          14624 non-null  object \n",
      "dtypes: float64(9), object(17)\n",
      "memory usage: 11.9+ MB\n"
     ]
    }
   ],
   "source": [
    "# dataframe info \n",
    "df.info()"
   ]
  },
  {
   "cell_type": "code",
   "execution_count": 4,
   "id": "6577ecc0",
   "metadata": {},
   "outputs": [
    {
     "data": {
      "text/html": [
       "<div>\n",
       "<style scoped>\n",
       "    .dataframe tbody tr th:only-of-type {\n",
       "        vertical-align: middle;\n",
       "    }\n",
       "\n",
       "    .dataframe tbody tr th {\n",
       "        vertical-align: top;\n",
       "    }\n",
       "\n",
       "    .dataframe thead th {\n",
       "        text-align: right;\n",
       "    }\n",
       "</style>\n",
       "<table border=\"1\" class=\"dataframe\">\n",
       "  <thead>\n",
       "    <tr style=\"text-align: right;\">\n",
       "      <th></th>\n",
       "      <th>imdb_id</th>\n",
       "      <th>adult</th>\n",
       "      <th>belongs_to_collection</th>\n",
       "      <th>budget</th>\n",
       "      <th>genres</th>\n",
       "      <th>popularity</th>\n",
       "      <th>release_date</th>\n",
       "      <th>revenue</th>\n",
       "      <th>runtime</th>\n",
       "      <th>title</th>\n",
       "      <th>vote_average</th>\n",
       "      <th>vote_count</th>\n",
       "      <th>certification</th>\n",
       "    </tr>\n",
       "  </thead>\n",
       "  <tbody>\n",
       "    <tr>\n",
       "      <th>0</th>\n",
       "      <td>tt0113026</td>\n",
       "      <td>0.0</td>\n",
       "      <td>NaN</td>\n",
       "      <td>10000000.0</td>\n",
       "      <td>[{'id': 35, 'name': 'Comedy'}, {'id': 10402, '...</td>\n",
       "      <td>2.491</td>\n",
       "      <td>2000-09-22</td>\n",
       "      <td>0.0</td>\n",
       "      <td>86.0</td>\n",
       "      <td>The Fantasticks</td>\n",
       "      <td>5.4</td>\n",
       "      <td>21.0</td>\n",
       "      <td>NaN</td>\n",
       "    </tr>\n",
       "    <tr>\n",
       "      <th>1</th>\n",
       "      <td>tt0113092</td>\n",
       "      <td>0.0</td>\n",
       "      <td>NaN</td>\n",
       "      <td>0.0</td>\n",
       "      <td>[{'id': 878, 'name': 'Science Fiction'}]</td>\n",
       "      <td>1.974</td>\n",
       "      <td>2000-11-15</td>\n",
       "      <td>0.0</td>\n",
       "      <td>100.0</td>\n",
       "      <td>For the Cause</td>\n",
       "      <td>4.4</td>\n",
       "      <td>7.0</td>\n",
       "      <td>NaN</td>\n",
       "    </tr>\n",
       "    <tr>\n",
       "      <th>2</th>\n",
       "      <td>tt0116391</td>\n",
       "      <td>0.0</td>\n",
       "      <td>NaN</td>\n",
       "      <td>0.0</td>\n",
       "      <td>[{'id': 18, 'name': 'Drama'}, {'id': 28, 'name...</td>\n",
       "      <td>1.341</td>\n",
       "      <td>2000-04-14</td>\n",
       "      <td>0.0</td>\n",
       "      <td>152.0</td>\n",
       "      <td>Gang</td>\n",
       "      <td>0.0</td>\n",
       "      <td>0.0</td>\n",
       "      <td>NaN</td>\n",
       "    </tr>\n",
       "  </tbody>\n",
       "</table>\n",
       "</div>"
      ],
      "text/plain": [
       "     imdb_id  adult belongs_to_collection      budget  \\\n",
       "0  tt0113026    0.0                   NaN  10000000.0   \n",
       "1  tt0113092    0.0                   NaN         0.0   \n",
       "2  tt0116391    0.0                   NaN         0.0   \n",
       "\n",
       "                                              genres  popularity release_date  \\\n",
       "0  [{'id': 35, 'name': 'Comedy'}, {'id': 10402, '...       2.491   2000-09-22   \n",
       "1           [{'id': 878, 'name': 'Science Fiction'}]       1.974   2000-11-15   \n",
       "2  [{'id': 18, 'name': 'Drama'}, {'id': 28, 'name...       1.341   2000-04-14   \n",
       "\n",
       "   revenue  runtime            title  vote_average  vote_count certification  \n",
       "0      0.0     86.0  The Fantasticks           5.4        21.0           NaN  \n",
       "1      0.0    100.0    For the Cause           4.4         7.0           NaN  \n",
       "2      0.0    152.0             Gang           0.0         0.0           NaN  "
      ]
     },
     "execution_count": 4,
     "metadata": {},
     "output_type": "execute_result"
    }
   ],
   "source": [
    "# Preprocessing\n",
    "## Columns to exclude\n",
    "drop_cols = ['backdrop_path','backdrop_path','original_title','overview',\n",
    "                 'poster_path','status','tagline','id','homepage',\n",
    "                 'production_countries','video','production_companies','spoken_languages',\n",
    "            'original_language']\n",
    "df = df.drop(columns=drop_cols)\n",
    "df.head(3)"
   ]
  },
  {
   "cell_type": "code",
   "execution_count": 5,
   "id": "bf6d76c5",
   "metadata": {},
   "outputs": [
    {
     "data": {
      "text/plain": [
       "0        2000-09-22\n",
       "1        2000-11-15\n",
       "2        2000-04-14\n",
       "3        2000-09-29\n",
       "4        2000-09-02\n",
       "            ...    \n",
       "60125    2021-09-08\n",
       "60126    2021-11-19\n",
       "60127    2022-01-21\n",
       "60128    2021-12-07\n",
       "60129    2021-07-28\n",
       "Name: release_date, Length: 60130, dtype: object"
      ]
     },
     "execution_count": 5,
     "metadata": {},
     "output_type": "execute_result"
    }
   ],
   "source": [
    "df['release_date']"
   ]
  },
  {
   "cell_type": "code",
   "execution_count": 6,
   "id": "dbbec9d6",
   "metadata": {},
   "outputs": [
    {
     "data": {
      "text/html": [
       "<div>\n",
       "<style scoped>\n",
       "    .dataframe tbody tr th:only-of-type {\n",
       "        vertical-align: middle;\n",
       "    }\n",
       "\n",
       "    .dataframe tbody tr th {\n",
       "        vertical-align: top;\n",
       "    }\n",
       "\n",
       "    .dataframe thead th {\n",
       "        text-align: right;\n",
       "    }\n",
       "</style>\n",
       "<table border=\"1\" class=\"dataframe\">\n",
       "  <thead>\n",
       "    <tr style=\"text-align: right;\">\n",
       "      <th></th>\n",
       "      <th>release_yr</th>\n",
       "      <th>release_month</th>\n",
       "      <th>release_day</th>\n",
       "    </tr>\n",
       "  </thead>\n",
       "  <tbody>\n",
       "    <tr>\n",
       "      <th>0</th>\n",
       "      <td>2000</td>\n",
       "      <td>09</td>\n",
       "      <td>22</td>\n",
       "    </tr>\n",
       "    <tr>\n",
       "      <th>1</th>\n",
       "      <td>2000</td>\n",
       "      <td>11</td>\n",
       "      <td>15</td>\n",
       "    </tr>\n",
       "    <tr>\n",
       "      <th>2</th>\n",
       "      <td>2000</td>\n",
       "      <td>04</td>\n",
       "      <td>14</td>\n",
       "    </tr>\n",
       "    <tr>\n",
       "      <th>3</th>\n",
       "      <td>2000</td>\n",
       "      <td>09</td>\n",
       "      <td>29</td>\n",
       "    </tr>\n",
       "    <tr>\n",
       "      <th>4</th>\n",
       "      <td>2000</td>\n",
       "      <td>09</td>\n",
       "      <td>02</td>\n",
       "    </tr>\n",
       "    <tr>\n",
       "      <th>...</th>\n",
       "      <td>...</td>\n",
       "      <td>...</td>\n",
       "      <td>...</td>\n",
       "    </tr>\n",
       "    <tr>\n",
       "      <th>60125</th>\n",
       "      <td>2021</td>\n",
       "      <td>09</td>\n",
       "      <td>08</td>\n",
       "    </tr>\n",
       "    <tr>\n",
       "      <th>60126</th>\n",
       "      <td>2021</td>\n",
       "      <td>11</td>\n",
       "      <td>19</td>\n",
       "    </tr>\n",
       "    <tr>\n",
       "      <th>60127</th>\n",
       "      <td>2022</td>\n",
       "      <td>01</td>\n",
       "      <td>21</td>\n",
       "    </tr>\n",
       "    <tr>\n",
       "      <th>60128</th>\n",
       "      <td>2021</td>\n",
       "      <td>12</td>\n",
       "      <td>07</td>\n",
       "    </tr>\n",
       "    <tr>\n",
       "      <th>60129</th>\n",
       "      <td>2021</td>\n",
       "      <td>07</td>\n",
       "      <td>28</td>\n",
       "    </tr>\n",
       "  </tbody>\n",
       "</table>\n",
       "<p>60130 rows × 3 columns</p>\n",
       "</div>"
      ],
      "text/plain": [
       "      release_yr release_month release_day\n",
       "0           2000            09          22\n",
       "1           2000            11          15\n",
       "2           2000            04          14\n",
       "3           2000            09          29\n",
       "4           2000            09          02\n",
       "...          ...           ...         ...\n",
       "60125       2021            09          08\n",
       "60126       2021            11          19\n",
       "60127       2022            01          21\n",
       "60128       2021            12          07\n",
       "60129       2021            07          28\n",
       "\n",
       "[60130 rows x 3 columns]"
      ]
     },
     "execution_count": 6,
     "metadata": {},
     "output_type": "execute_result"
    }
   ],
   "source": [
    "# saving the release_date into three independent column\n",
    "df[['release_yr','release_month', 'release_day']]= df['release_date'].str.split('-',expand=True)"
   ]
  },
  {
   "cell_type": "code",
   "execution_count": 7,
   "id": "bc74a913",
   "metadata": {},
   "outputs": [
    {
     "data": {
      "text/html": [
       "<div>\n",
       "<style scoped>\n",
       "    .dataframe tbody tr th:only-of-type {\n",
       "        vertical-align: middle;\n",
       "    }\n",
       "\n",
       "    .dataframe tbody tr th {\n",
       "        vertical-align: top;\n",
       "    }\n",
       "\n",
       "    .dataframe thead th {\n",
       "        text-align: right;\n",
       "    }\n",
       "</style>\n",
       "<table border=\"1\" class=\"dataframe\">\n",
       "  <thead>\n",
       "    <tr style=\"text-align: right;\">\n",
       "      <th></th>\n",
       "      <th>imdb_id</th>\n",
       "      <th>adult</th>\n",
       "      <th>belongs_to_collection</th>\n",
       "      <th>budget</th>\n",
       "      <th>genres</th>\n",
       "      <th>popularity</th>\n",
       "      <th>release_date</th>\n",
       "      <th>revenue</th>\n",
       "      <th>runtime</th>\n",
       "      <th>title</th>\n",
       "      <th>vote_average</th>\n",
       "      <th>vote_count</th>\n",
       "      <th>certification</th>\n",
       "      <th>release_yr</th>\n",
       "      <th>release_month</th>\n",
       "      <th>release_day</th>\n",
       "    </tr>\n",
       "  </thead>\n",
       "  <tbody>\n",
       "    <tr>\n",
       "      <th>0</th>\n",
       "      <td>tt0113026</td>\n",
       "      <td>0.0</td>\n",
       "      <td>NaN</td>\n",
       "      <td>10000000.0</td>\n",
       "      <td>[{'id': 35, 'name': 'Comedy'}, {'id': 10402, '...</td>\n",
       "      <td>2.491</td>\n",
       "      <td>2000-09-22</td>\n",
       "      <td>0.0</td>\n",
       "      <td>86.0</td>\n",
       "      <td>The Fantasticks</td>\n",
       "      <td>5.4</td>\n",
       "      <td>21.0</td>\n",
       "      <td>NaN</td>\n",
       "      <td>2000</td>\n",
       "      <td>09</td>\n",
       "      <td>22</td>\n",
       "    </tr>\n",
       "    <tr>\n",
       "      <th>1</th>\n",
       "      <td>tt0113092</td>\n",
       "      <td>0.0</td>\n",
       "      <td>NaN</td>\n",
       "      <td>0.0</td>\n",
       "      <td>[{'id': 878, 'name': 'Science Fiction'}]</td>\n",
       "      <td>1.974</td>\n",
       "      <td>2000-11-15</td>\n",
       "      <td>0.0</td>\n",
       "      <td>100.0</td>\n",
       "      <td>For the Cause</td>\n",
       "      <td>4.4</td>\n",
       "      <td>7.0</td>\n",
       "      <td>NaN</td>\n",
       "      <td>2000</td>\n",
       "      <td>11</td>\n",
       "      <td>15</td>\n",
       "    </tr>\n",
       "    <tr>\n",
       "      <th>2</th>\n",
       "      <td>tt0116391</td>\n",
       "      <td>0.0</td>\n",
       "      <td>NaN</td>\n",
       "      <td>0.0</td>\n",
       "      <td>[{'id': 18, 'name': 'Drama'}, {'id': 28, 'name...</td>\n",
       "      <td>1.341</td>\n",
       "      <td>2000-04-14</td>\n",
       "      <td>0.0</td>\n",
       "      <td>152.0</td>\n",
       "      <td>Gang</td>\n",
       "      <td>0.0</td>\n",
       "      <td>0.0</td>\n",
       "      <td>NaN</td>\n",
       "      <td>2000</td>\n",
       "      <td>04</td>\n",
       "      <td>14</td>\n",
       "    </tr>\n",
       "    <tr>\n",
       "      <th>3</th>\n",
       "      <td>tt0118694</td>\n",
       "      <td>0.0</td>\n",
       "      <td>NaN</td>\n",
       "      <td>150000.0</td>\n",
       "      <td>[{'id': 18, 'name': 'Drama'}, {'id': 10749, 'n...</td>\n",
       "      <td>22.411</td>\n",
       "      <td>2000-09-29</td>\n",
       "      <td>12854953.0</td>\n",
       "      <td>99.0</td>\n",
       "      <td>In the Mood for Love</td>\n",
       "      <td>8.1</td>\n",
       "      <td>1868.0</td>\n",
       "      <td>PG</td>\n",
       "      <td>2000</td>\n",
       "      <td>09</td>\n",
       "      <td>29</td>\n",
       "    </tr>\n",
       "    <tr>\n",
       "      <th>4</th>\n",
       "      <td>tt0118852</td>\n",
       "      <td>0.0</td>\n",
       "      <td>NaN</td>\n",
       "      <td>0.0</td>\n",
       "      <td>[{'id': 18, 'name': 'Drama'}]</td>\n",
       "      <td>4.889</td>\n",
       "      <td>2000-09-02</td>\n",
       "      <td>0.0</td>\n",
       "      <td>99.0</td>\n",
       "      <td>Chinese Coffee</td>\n",
       "      <td>6.9</td>\n",
       "      <td>46.0</td>\n",
       "      <td>R</td>\n",
       "      <td>2000</td>\n",
       "      <td>09</td>\n",
       "      <td>02</td>\n",
       "    </tr>\n",
       "  </tbody>\n",
       "</table>\n",
       "</div>"
      ],
      "text/plain": [
       "     imdb_id  adult belongs_to_collection      budget  \\\n",
       "0  tt0113026    0.0                   NaN  10000000.0   \n",
       "1  tt0113092    0.0                   NaN         0.0   \n",
       "2  tt0116391    0.0                   NaN         0.0   \n",
       "3  tt0118694    0.0                   NaN    150000.0   \n",
       "4  tt0118852    0.0                   NaN         0.0   \n",
       "\n",
       "                                              genres  popularity release_date  \\\n",
       "0  [{'id': 35, 'name': 'Comedy'}, {'id': 10402, '...       2.491   2000-09-22   \n",
       "1           [{'id': 878, 'name': 'Science Fiction'}]       1.974   2000-11-15   \n",
       "2  [{'id': 18, 'name': 'Drama'}, {'id': 28, 'name...       1.341   2000-04-14   \n",
       "3  [{'id': 18, 'name': 'Drama'}, {'id': 10749, 'n...      22.411   2000-09-29   \n",
       "4                      [{'id': 18, 'name': 'Drama'}]       4.889   2000-09-02   \n",
       "\n",
       "      revenue  runtime                 title  vote_average  vote_count  \\\n",
       "0         0.0     86.0       The Fantasticks           5.4        21.0   \n",
       "1         0.0    100.0         For the Cause           4.4         7.0   \n",
       "2         0.0    152.0                  Gang           0.0         0.0   \n",
       "3  12854953.0     99.0  In the Mood for Love           8.1      1868.0   \n",
       "4         0.0     99.0        Chinese Coffee           6.9        46.0   \n",
       "\n",
       "  certification release_yr release_month release_day  \n",
       "0           NaN       2000            09          22  \n",
       "1           NaN       2000            11          15  \n",
       "2           NaN       2000            04          14  \n",
       "3            PG       2000            09          29  \n",
       "4             R       2000            09          02  "
      ]
     },
     "execution_count": 7,
     "metadata": {},
     "output_type": "execute_result"
    }
   ],
   "source": [
    "df.drop(columns=['release_date'])\n",
    "df.head()"
   ]
  },
  {
   "cell_type": "markdown",
   "id": "ce8772c7",
   "metadata": {},
   "source": [
    "**1. State the Hypothesis & Null Hypothesis**\n",
    "\n",
    "- $H_0$ (Null Hypothesis): Yes, Movies over 2.5 hours long earn more revenue than movies that are 1.5 hours long(or less). \n",
    "- $H_A$ (Alternative Hypothesis): No, Movies over 2.5 hours long earn more revenue than movies that are 1.5 hours long(or less)."
   ]
  },
  {
   "cell_type": "markdown",
   "id": "c56b47c2",
   "metadata": {},
   "source": [
    "**2. Determine the correct test to perform.**\n",
    "- Type of Data?\n",
    "    - Numeric\n",
    "- How many groups/samples? \n",
    "    - 2 groups\n",
    "- Therefore, which test is appropriate?\n",
    "    - 2-Sample Test"
   ]
  },
  {
   "cell_type": "markdown",
   "id": "9af86c5d",
   "metadata": {},
   "source": [
    "**Visualize and separate data for hypothesis**\n",
    "\n",
    "   - What column is our target?\n",
    "   - What column determines our groups?\n"
   ]
  },
  {
   "cell_type": "code",
   "execution_count": 8,
   "id": "06c9a696",
   "metadata": {},
   "outputs": [
    {
     "data": {
      "text/plain": [
       "0         86.0\n",
       "1        100.0\n",
       "2        152.0\n",
       "3         99.0\n",
       "4         99.0\n",
       "         ...  \n",
       "60125    118.0\n",
       "60126    101.0\n",
       "60127     91.0\n",
       "60128     87.0\n",
       "60129    111.0\n",
       "Name: runtime, Length: 60130, dtype: float64"
      ]
     },
     "execution_count": 8,
     "metadata": {},
     "output_type": "execute_result"
    }
   ],
   "source": [
    "# check for col 'runtime'\n",
    "df['runtime']"
   ]
  },
  {
   "cell_type": "code",
   "execution_count": 9,
   "id": "1772573e",
   "metadata": {},
   "outputs": [
    {
     "data": {
      "text/plain": [
       "0.0           52693\n",
       "10000.0          30\n",
       "2000000.0        18\n",
       "100000.0         17\n",
       "1000000.0        16\n",
       "              ...  \n",
       "2336172.0         1\n",
       "29506464.0        1\n",
       "2260712.0         1\n",
       "31244858.0        1\n",
       "4588389.0         1\n",
       "Name: revenue, Length: 6931, dtype: int64"
      ]
     },
     "execution_count": 9,
     "metadata": {},
     "output_type": "execute_result"
    }
   ],
   "source": [
    "df['revenue'].value_counts()"
   ]
  },
  {
   "cell_type": "code",
   "execution_count": 10,
   "id": "bc8bc39a",
   "metadata": {},
   "outputs": [
    {
     "data": {
      "text/plain": [
       "False    0.996691\n",
       "True     0.003309\n",
       "Name: two_hr, dtype: float64"
      ]
     },
     "execution_count": 10,
     "metadata": {},
     "output_type": "execute_result"
    }
   ],
   "source": [
    "# checking for movies 2.5 hours or more\n",
    "df['two_hr'] = df['runtime'] >= 180.0\n",
    "df['two_hr'].value_counts(normalize=True)"
   ]
  },
  {
   "cell_type": "code",
   "execution_count": 11,
   "id": "b7e110fc",
   "metadata": {},
   "outputs": [
    {
     "data": {
      "text/plain": [
       "True     0.629669\n",
       "False    0.370331\n",
       "Name: one_hr, dtype: float64"
      ]
     },
     "execution_count": 11,
     "metadata": {},
     "output_type": "execute_result"
    }
   ],
   "source": [
    "# checking for movies 1.5 hours \n",
    "df['one_hr'] = df['runtime'] >= 90.0\n",
    "df['one_hr'].value_counts(normalize=True)"
   ]
  },
  {
   "cell_type": "code",
   "execution_count": 12,
   "id": "d12acd2e",
   "metadata": {},
   "outputs": [],
   "source": [
    "# saving list needed for each group \n",
    "need_col = ['two_hr', 'one_hr', 'revenue']"
   ]
  },
  {
   "cell_type": "code",
   "execution_count": 13,
   "id": "835e5bfe",
   "metadata": {},
   "outputs": [
    {
     "data": {
      "text/html": [
       "<div>\n",
       "<style scoped>\n",
       "    .dataframe tbody tr th:only-of-type {\n",
       "        vertical-align: middle;\n",
       "    }\n",
       "\n",
       "    .dataframe tbody tr th {\n",
       "        vertical-align: top;\n",
       "    }\n",
       "\n",
       "    .dataframe thead th {\n",
       "        text-align: right;\n",
       "    }\n",
       "</style>\n",
       "<table border=\"1\" class=\"dataframe\">\n",
       "  <thead>\n",
       "    <tr style=\"text-align: right;\">\n",
       "      <th></th>\n",
       "      <th>two_hr</th>\n",
       "      <th>one_hr</th>\n",
       "      <th>revenue</th>\n",
       "    </tr>\n",
       "  </thead>\n",
       "  <tbody>\n",
       "    <tr>\n",
       "      <th>0</th>\n",
       "      <td>False</td>\n",
       "      <td>False</td>\n",
       "      <td>0.0</td>\n",
       "    </tr>\n",
       "    <tr>\n",
       "      <th>1</th>\n",
       "      <td>False</td>\n",
       "      <td>True</td>\n",
       "      <td>0.0</td>\n",
       "    </tr>\n",
       "    <tr>\n",
       "      <th>2</th>\n",
       "      <td>False</td>\n",
       "      <td>True</td>\n",
       "      <td>0.0</td>\n",
       "    </tr>\n",
       "    <tr>\n",
       "      <th>3</th>\n",
       "      <td>False</td>\n",
       "      <td>True</td>\n",
       "      <td>12854953.0</td>\n",
       "    </tr>\n",
       "    <tr>\n",
       "      <th>4</th>\n",
       "      <td>False</td>\n",
       "      <td>True</td>\n",
       "      <td>0.0</td>\n",
       "    </tr>\n",
       "    <tr>\n",
       "      <th>...</th>\n",
       "      <td>...</td>\n",
       "      <td>...</td>\n",
       "      <td>...</td>\n",
       "    </tr>\n",
       "    <tr>\n",
       "      <th>60125</th>\n",
       "      <td>False</td>\n",
       "      <td>True</td>\n",
       "      <td>0.0</td>\n",
       "    </tr>\n",
       "    <tr>\n",
       "      <th>60126</th>\n",
       "      <td>False</td>\n",
       "      <td>True</td>\n",
       "      <td>0.0</td>\n",
       "    </tr>\n",
       "    <tr>\n",
       "      <th>60127</th>\n",
       "      <td>False</td>\n",
       "      <td>True</td>\n",
       "      <td>0.0</td>\n",
       "    </tr>\n",
       "    <tr>\n",
       "      <th>60128</th>\n",
       "      <td>False</td>\n",
       "      <td>False</td>\n",
       "      <td>0.0</td>\n",
       "    </tr>\n",
       "    <tr>\n",
       "      <th>60129</th>\n",
       "      <td>False</td>\n",
       "      <td>True</td>\n",
       "      <td>4588389.0</td>\n",
       "    </tr>\n",
       "  </tbody>\n",
       "</table>\n",
       "<p>59931 rows × 3 columns</p>\n",
       "</div>"
      ],
      "text/plain": [
       "       two_hr  one_hr     revenue\n",
       "0       False   False         0.0\n",
       "1       False    True         0.0\n",
       "2       False    True         0.0\n",
       "3       False    True  12854953.0\n",
       "4       False    True         0.0\n",
       "...       ...     ...         ...\n",
       "60125   False    True         0.0\n",
       "60126   False    True         0.0\n",
       "60127   False    True         0.0\n",
       "60128   False   False         0.0\n",
       "60129   False    True   4588389.0\n",
       "\n",
       "[59931 rows x 3 columns]"
      ]
     },
     "execution_count": 13,
     "metadata": {},
     "output_type": "execute_result"
    }
   ],
   "source": [
    "# save movies around 1.5 hrs\n",
    "one_hr = df.loc[df['two_hr']==False, need_col]\n",
    "one_hr"
   ]
  },
  {
   "cell_type": "code",
   "execution_count": 14,
   "id": "f7874131",
   "metadata": {},
   "outputs": [
    {
     "data": {
      "text/html": [
       "<div>\n",
       "<style scoped>\n",
       "    .dataframe tbody tr th:only-of-type {\n",
       "        vertical-align: middle;\n",
       "    }\n",
       "\n",
       "    .dataframe tbody tr th {\n",
       "        vertical-align: top;\n",
       "    }\n",
       "\n",
       "    .dataframe thead th {\n",
       "        text-align: right;\n",
       "    }\n",
       "</style>\n",
       "<table border=\"1\" class=\"dataframe\">\n",
       "  <thead>\n",
       "    <tr style=\"text-align: right;\">\n",
       "      <th></th>\n",
       "      <th>two_hr</th>\n",
       "      <th>one_hr</th>\n",
       "      <th>revenue</th>\n",
       "    </tr>\n",
       "  </thead>\n",
       "  <tbody>\n",
       "    <tr>\n",
       "      <th>474</th>\n",
       "      <td>True</td>\n",
       "      <td>True</td>\n",
       "      <td>0.0</td>\n",
       "    </tr>\n",
       "    <tr>\n",
       "      <th>505</th>\n",
       "      <td>True</td>\n",
       "      <td>True</td>\n",
       "      <td>0.0</td>\n",
       "    </tr>\n",
       "    <tr>\n",
       "      <th>584</th>\n",
       "      <td>True</td>\n",
       "      <td>True</td>\n",
       "      <td>4900000.0</td>\n",
       "    </tr>\n",
       "    <tr>\n",
       "      <th>725</th>\n",
       "      <td>True</td>\n",
       "      <td>True</td>\n",
       "      <td>0.0</td>\n",
       "    </tr>\n",
       "    <tr>\n",
       "      <th>762</th>\n",
       "      <td>True</td>\n",
       "      <td>True</td>\n",
       "      <td>0.0</td>\n",
       "    </tr>\n",
       "    <tr>\n",
       "      <th>...</th>\n",
       "      <td>...</td>\n",
       "      <td>...</td>\n",
       "      <td>...</td>\n",
       "    </tr>\n",
       "    <tr>\n",
       "      <th>58684</th>\n",
       "      <td>True</td>\n",
       "      <td>True</td>\n",
       "      <td>0.0</td>\n",
       "    </tr>\n",
       "    <tr>\n",
       "      <th>59303</th>\n",
       "      <td>True</td>\n",
       "      <td>True</td>\n",
       "      <td>0.0</td>\n",
       "    </tr>\n",
       "    <tr>\n",
       "      <th>59397</th>\n",
       "      <td>True</td>\n",
       "      <td>True</td>\n",
       "      <td>0.0</td>\n",
       "    </tr>\n",
       "    <tr>\n",
       "      <th>59459</th>\n",
       "      <td>True</td>\n",
       "      <td>True</td>\n",
       "      <td>0.0</td>\n",
       "    </tr>\n",
       "    <tr>\n",
       "      <th>59796</th>\n",
       "      <td>True</td>\n",
       "      <td>True</td>\n",
       "      <td>0.0</td>\n",
       "    </tr>\n",
       "  </tbody>\n",
       "</table>\n",
       "<p>199 rows × 3 columns</p>\n",
       "</div>"
      ],
      "text/plain": [
       "       two_hr  one_hr    revenue\n",
       "474      True    True        0.0\n",
       "505      True    True        0.0\n",
       "584      True    True  4900000.0\n",
       "725      True    True        0.0\n",
       "762      True    True        0.0\n",
       "...       ...     ...        ...\n",
       "58684    True    True        0.0\n",
       "59303    True    True        0.0\n",
       "59397    True    True        0.0\n",
       "59459    True    True        0.0\n",
       "59796    True    True        0.0\n",
       "\n",
       "[199 rows x 3 columns]"
      ]
     },
     "execution_count": 14,
     "metadata": {},
     "output_type": "execute_result"
    }
   ],
   "source": [
    "# save movies over than 2.5 hrs\n",
    "two_hr= df.loc[df['two_hr']==True, need_col]\n",
    "two_hr"
   ]
  },
  {
   "cell_type": "code",
   "execution_count": 15,
   "id": "fdb95093",
   "metadata": {},
   "outputs": [
    {
     "data": {
      "text/html": [
       "<div>\n",
       "<style scoped>\n",
       "    .dataframe tbody tr th:only-of-type {\n",
       "        vertical-align: middle;\n",
       "    }\n",
       "\n",
       "    .dataframe tbody tr th {\n",
       "        vertical-align: top;\n",
       "    }\n",
       "\n",
       "    .dataframe thead th {\n",
       "        text-align: right;\n",
       "    }\n",
       "</style>\n",
       "<table border=\"1\" class=\"dataframe\">\n",
       "  <thead>\n",
       "    <tr style=\"text-align: right;\">\n",
       "      <th></th>\n",
       "      <th>two_hr</th>\n",
       "      <th>one_hr</th>\n",
       "      <th>revenue</th>\n",
       "    </tr>\n",
       "  </thead>\n",
       "  <tbody>\n",
       "    <tr>\n",
       "      <th>0</th>\n",
       "      <td>False</td>\n",
       "      <td>False</td>\n",
       "      <td>0.0</td>\n",
       "    </tr>\n",
       "    <tr>\n",
       "      <th>1</th>\n",
       "      <td>False</td>\n",
       "      <td>True</td>\n",
       "      <td>0.0</td>\n",
       "    </tr>\n",
       "    <tr>\n",
       "      <th>2</th>\n",
       "      <td>False</td>\n",
       "      <td>True</td>\n",
       "      <td>0.0</td>\n",
       "    </tr>\n",
       "    <tr>\n",
       "      <th>3</th>\n",
       "      <td>False</td>\n",
       "      <td>True</td>\n",
       "      <td>12854953.0</td>\n",
       "    </tr>\n",
       "    <tr>\n",
       "      <th>4</th>\n",
       "      <td>False</td>\n",
       "      <td>True</td>\n",
       "      <td>0.0</td>\n",
       "    </tr>\n",
       "    <tr>\n",
       "      <th>...</th>\n",
       "      <td>...</td>\n",
       "      <td>...</td>\n",
       "      <td>...</td>\n",
       "    </tr>\n",
       "    <tr>\n",
       "      <th>58684</th>\n",
       "      <td>True</td>\n",
       "      <td>True</td>\n",
       "      <td>0.0</td>\n",
       "    </tr>\n",
       "    <tr>\n",
       "      <th>59303</th>\n",
       "      <td>True</td>\n",
       "      <td>True</td>\n",
       "      <td>0.0</td>\n",
       "    </tr>\n",
       "    <tr>\n",
       "      <th>59397</th>\n",
       "      <td>True</td>\n",
       "      <td>True</td>\n",
       "      <td>0.0</td>\n",
       "    </tr>\n",
       "    <tr>\n",
       "      <th>59459</th>\n",
       "      <td>True</td>\n",
       "      <td>True</td>\n",
       "      <td>0.0</td>\n",
       "    </tr>\n",
       "    <tr>\n",
       "      <th>59796</th>\n",
       "      <td>True</td>\n",
       "      <td>True</td>\n",
       "      <td>0.0</td>\n",
       "    </tr>\n",
       "  </tbody>\n",
       "</table>\n",
       "<p>60130 rows × 3 columns</p>\n",
       "</div>"
      ],
      "text/plain": [
       "       two_hr  one_hr     revenue\n",
       "0       False   False         0.0\n",
       "1       False    True         0.0\n",
       "2       False    True         0.0\n",
       "3       False    True  12854953.0\n",
       "4       False    True         0.0\n",
       "...       ...     ...         ...\n",
       "58684    True    True         0.0\n",
       "59303    True    True         0.0\n",
       "59397    True    True         0.0\n",
       "59459    True    True         0.0\n",
       "59796    True    True         0.0\n",
       "\n",
       "[60130 rows x 3 columns]"
      ]
     },
     "execution_count": 15,
     "metadata": {},
     "output_type": "execute_result"
    }
   ],
   "source": [
    "# making a df to visualize each group \n",
    "visual_df = pd.concat([one_hr, two_hr])\n",
    "visual_df"
   ]
  },
  {
   "cell_type": "code",
   "execution_count": 16,
   "id": "a059b6bb",
   "metadata": {},
   "outputs": [
    {
     "data": {
      "text/plain": [
       "<AxesSubplot:xlabel='two_hr', ylabel='revenue'>"
      ]
     },
     "execution_count": 16,
     "metadata": {},
     "output_type": "execute_result"
    },
    {
     "data": {
      "image/png": "[encoded data removed]",
      "text/plain": [
       "<Figure size 640x480 with 1 Axes>"
      ]
     },
     "metadata": {},
     "output_type": "display_data"
    }
   ],
   "source": [
    "## visualize the group means\n",
    "sns.barplot(data=visual_df, x='two_hr', y='revenue')"
   ]
  },
  {
   "cell_type": "code",
   "execution_count": 17,
   "id": "4da77d7b",
   "metadata": {},
   "outputs": [
    {
     "data": {
      "text/plain": [
       "<AxesSubplot:xlabel='one_hr', ylabel='revenue'>"
      ]
     },
     "execution_count": 17,
     "metadata": {},
     "output_type": "execute_result"
    },
    {
     "data": {
      "image/png": "[encoded data removed]",
      "text/plain": [
       "<Figure size 640x480 with 1 Axes>"
      ]
     },
     "metadata": {},
     "output_type": "display_data"
    }
   ],
   "source": [
    "## visualize the group means\n",
    "sns.barplot(data=visual_df, x='one_hr', y='revenue')"
   ]
  },
  {
   "cell_type": "markdown",
   "id": "79b8867f",
   "metadata": {},
   "source": [
    "**Checking Assumption of No Significant Outliers**"
   ]
  },
  {
   "cell_type": "code",
   "execution_count": 18,
   "id": "7d8d0df8",
   "metadata": {},
   "outputs": [
    {
     "data": {
      "text/plain": [
       "0               0.0\n",
       "1               0.0\n",
       "2               0.0\n",
       "3        12854953.0\n",
       "4               0.0\n",
       "            ...    \n",
       "60125           0.0\n",
       "60126           0.0\n",
       "60127           0.0\n",
       "60128           0.0\n",
       "60129     4588389.0\n",
       "Name: revenue, Length: 59931, dtype: float64"
      ]
     },
     "execution_count": 18,
     "metadata": {},
     "output_type": "execute_result"
    }
   ],
   "source": [
    "## Saving Just the numeric col as final group variables \n",
    "one_hr_group = one_hr['revenue']\n",
    "two_hr_group = two_hr['revenue']\n",
    "one_hr_group"
   ]
  },
  {
   "cell_type": "code",
   "execution_count": 19,
   "id": "fe257ec5",
   "metadata": {},
   "outputs": [
    {
     "data": {
      "text/plain": [
       "1656"
      ]
     },
     "execution_count": 19,
     "metadata": {},
     "output_type": "execute_result"
    }
   ],
   "source": [
    "# check for movies less than 2.5 hrs group for outliers\n",
    "one_hr_grp_outliers = np.abs(stats.zscore(one_hr_group)) > 1\n",
    "\n",
    "# how many outliers \n",
    "one_hr_grp_outliers.sum()"
   ]
  },
  {
   "cell_type": "code",
   "execution_count": 20,
   "id": "c6720bf3",
   "metadata": {},
   "outputs": [
    {
     "data": {
      "text/plain": [
       "59931"
      ]
     },
     "execution_count": 20,
     "metadata": {},
     "output_type": "execute_result"
    }
   ],
   "source": [
    "# check length of group \n",
    "len(one_hr_group)"
   ]
  },
  {
   "cell_type": "code",
   "execution_count": 21,
   "id": "4116d847",
   "metadata": {},
   "outputs": [
    {
     "data": {
      "text/plain": [
       "0               0.0\n",
       "1               0.0\n",
       "2               0.0\n",
       "3        12854953.0\n",
       "4               0.0\n",
       "            ...    \n",
       "60125           0.0\n",
       "60126           0.0\n",
       "60127           0.0\n",
       "60128           0.0\n",
       "60129     4588389.0\n",
       "Name: revenue, Length: 58275, dtype: float64"
      ]
     },
     "execution_count": 21,
     "metadata": {},
     "output_type": "execute_result"
    }
   ],
   "source": [
    "# remove outliers from two_less_grp\n",
    "one_hr_clean = one_hr_group[one_hr_grp_outliers==False]\n",
    "one_hr_clean"
   ]
  },
  {
   "cell_type": "code",
   "execution_count": 22,
   "id": "f773713e",
   "metadata": {},
   "outputs": [
    {
     "data": {
      "text/plain": [
       "6"
      ]
     },
     "execution_count": 22,
     "metadata": {},
     "output_type": "execute_result"
    }
   ],
   "source": [
    "# check for movies 2.5 hrs or more group for outliers\n",
    "two_hr_grp_outliers = np.abs(stats.zscore(two_hr_group)) > 1\n",
    "\n",
    "# how many outliers \n",
    "two_hr_grp_outliers.sum()"
   ]
  },
  {
   "cell_type": "code",
   "execution_count": 23,
   "id": "b700908a",
   "metadata": {},
   "outputs": [
    {
     "data": {
      "text/plain": [
       "199"
      ]
     },
     "execution_count": 23,
     "metadata": {},
     "output_type": "execute_result"
    }
   ],
   "source": [
    "# check length of group \n",
    "len(two_hr_group)"
   ]
  },
  {
   "cell_type": "code",
   "execution_count": 24,
   "id": "75486af2",
   "metadata": {},
   "outputs": [
    {
     "data": {
      "text/plain": [
       "474            0.0\n",
       "505            0.0\n",
       "584      4900000.0\n",
       "725            0.0\n",
       "762            0.0\n",
       "           ...    \n",
       "58684          0.0\n",
       "59303          0.0\n",
       "59397          0.0\n",
       "59459          0.0\n",
       "59796          0.0\n",
       "Name: revenue, Length: 193, dtype: float64"
      ]
     },
     "execution_count": 24,
     "metadata": {},
     "output_type": "execute_result"
    }
   ],
   "source": [
    "# remove outliers from two_more_grp\n",
    "two_hr_clean = two_hr_group[two_hr_grp_outliers==False]\n",
    "two_hr_clean"
   ]
  },
  {
   "cell_type": "markdown",
   "id": "3b3ef128",
   "metadata": {},
   "source": [
    "**Test for Normality**"
   ]
  },
  {
   "cell_type": "code",
   "execution_count": 25,
   "id": "c53086c4",
   "metadata": {},
   "outputs": [
    {
     "name": "stdout",
     "output_type": "stream",
     "text": [
      "NormaltestResult(statistic=339.8810524864669, pvalue=1.569521252784285e-74)\n"
     ]
    },
    {
     "data": {
      "text/plain": [
       "True"
      ]
     },
     "execution_count": 25,
     "metadata": {},
     "output_type": "execute_result"
    }
   ],
   "source": [
    "# checking two_less_clean group for normality\n",
    "norm_results = stats.normaltest(two_hr_clean)\n",
    "print(norm_results)\n",
    "\n",
    "# Is the p-values less than 0.05?\n",
    "norm_results.pvalue < .05"
   ]
  },
  {
   "cell_type": "code",
   "execution_count": 26,
   "id": "894a56b8",
   "metadata": {},
   "outputs": [
    {
     "data": {
      "text/plain": [
       "193"
      ]
     },
     "execution_count": 26,
     "metadata": {},
     "output_type": "execute_result"
    }
   ],
   "source": [
    "# check n for two_less clean group\n",
    "len(two_hr_clean)"
   ]
  },
  {
   "cell_type": "code",
   "execution_count": 27,
   "id": "176ae914",
   "metadata": {},
   "outputs": [
    {
     "name": "stdout",
     "output_type": "stream",
     "text": [
      "NormaltestResult(statistic=71121.69450658545, pvalue=0.0)\n"
     ]
    },
    {
     "data": {
      "text/plain": [
       "True"
      ]
     },
     "execution_count": 27,
     "metadata": {},
     "output_type": "execute_result"
    }
   ],
   "source": [
    "# checking two_more_clean group for normality\n",
    "norm_rst = stats.normaltest(one_hr_clean)\n",
    "print(norm_rst)\n",
    "\n",
    "# Is the p-values less than 0.05?\n",
    "norm_rst.pvalue < .05"
   ]
  },
  {
   "cell_type": "code",
   "execution_count": 28,
   "id": "6832c146",
   "metadata": {},
   "outputs": [
    {
     "data": {
      "text/plain": [
       "58275"
      ]
     },
     "execution_count": 28,
     "metadata": {},
     "output_type": "execute_result"
    }
   ],
   "source": [
    "# check n for two_more clean group\n",
    "len(one_hr_clean)"
   ]
  },
  {
   "cell_type": "markdown",
   "id": "61c47f6f",
   "metadata": {},
   "source": [
    "- The test for normality shows that the data is not normal. \n",
    " - The pvalue is less than 0.05"
   ]
  },
  {
   "cell_type": "markdown",
   "id": "fda50ae1",
   "metadata": {},
   "source": [
    "**Test for Equal Variances**"
   ]
  },
  {
   "cell_type": "code",
   "execution_count": 29,
   "id": "384aa66b",
   "metadata": {},
   "outputs": [
    {
     "data": {
      "text/plain": [
       "LeveneResult(statistic=14.207022453755371, pvalue=0.00016391907854763292)"
      ]
     },
     "execution_count": 29,
     "metadata": {},
     "output_type": "execute_result"
    }
   ],
   "source": [
    "# testing for variance with (Levene's test)\n",
    "result = stats.levene(two_hr_clean, one_hr_clean)\n",
    "result"
   ]
  },
  {
   "cell_type": "code",
   "execution_count": 30,
   "id": "ed8e781a",
   "metadata": {},
   "outputs": [
    {
     "data": {
      "text/plain": [
       "True"
      ]
     },
     "execution_count": 30,
     "metadata": {},
     "output_type": "execute_result"
    }
   ],
   "source": [
    "## Use an if-else to help intepret the pvalue\n",
    "\n",
    "result.pvalue < .05"
   ]
  },
  {
   "cell_type": "markdown",
   "id": "18886ea7",
   "metadata": {},
   "source": [
    "**Final Hypothesis Test**"
   ]
  },
  {
   "cell_type": "code",
   "execution_count": 31,
   "id": "8ead2a17",
   "metadata": {},
   "outputs": [
    {
     "data": {
      "text/plain": [
       "Ttest_indResult(statistic=-1.813513467470691, pvalue=0.07131172968997315)"
      ]
     },
     "execution_count": 31,
     "metadata": {},
     "output_type": "execute_result"
    }
   ],
   "source": [
    "## run final hypothess test\n",
    "final_result =stats.ttest_ind(one_hr_clean, two_hr_clean, equal_var=False)\n",
    "final_result\n"
   ]
  },
  {
   "cell_type": "code",
   "execution_count": 32,
   "id": "3f3aeb3a",
   "metadata": {},
   "outputs": [
    {
     "data": {
      "text/plain": [
       "False"
      ]
     },
     "execution_count": 32,
     "metadata": {},
     "output_type": "execute_result"
    }
   ],
   "source": [
    "\n",
    "final_result.pvalue <.00000001"
   ]
  },
  {
   "cell_type": "raw",
   "id": "56e35782",
   "metadata": {},
   "source": [
    "Final observations:\n",
    "\n",
    "No, Movies over 2.5 hours long earn more revenue than movies that are 1.5 hours long(or less).\n",
    "\n",
    "Therefore, I \"Reject\" the null hypothesis"
   ]
  }
 ],
 "metadata": {
  "kernelspec": {
   "display_name": "Python (dojo-env)",
   "language": "python",
   "name": "dojo-env"
  },
  "language_info": {
   "codemirror_mode": {
    "name": "ipython",
    "version": 3
   },
   "file_extension": ".py",
   "mimetype": "text/x-python",
   "name": "python",
   "nbconvert_exporter": "python",
   "pygments_lexer": "ipython3",
   "version": "3.8.13"
  },
  "toc": {
   "base_numbering": 1,
   "nav_menu": {},
   "number_sections": true,
   "sideBar": true,
   "skip_h1_title": false,
   "title_cell": "Table of Contents",
   "title_sidebar": "Contents",
   "toc_cell": false,
   "toc_position": {},
   "toc_section_display": true,
   "toc_window_display": false
  }
 },
 "nbformat": 4,
 "nbformat_minor": 5
}
