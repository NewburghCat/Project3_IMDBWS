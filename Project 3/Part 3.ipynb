{
 "cells": [
  {
   "cell_type": "code",
   "execution_count": 8,
   "id": "8c79317e",
   "metadata": {},
   "outputs": [
    {
     "data": {
      "text/plain": [
       "['title_basics_cleaned.csv.gz',\n",
       " 'title.akas.tsv.gz',\n",
       " 'years_to_get.csv.gz',\n",
       " 'ratings.akas.tsv.gz',\n",
       " 'tmdb_api_results_2000.json',\n",
       " 'final_tmdb_data_2000.csv.gz',\n",
       " 'title_basics.csv.gz',\n",
       " 'tmdb_api_results_[2000, 2001].json',\n",
       " 'final_tmdb_data_[2000, 2001].csv.gz',\n",
       " 'ratings_cleaned.akas.tsv.gz',\n",
       " \"tmdb_api_results_['2000'].json\"]"
      ]
     },
     "execution_count": 8,
     "metadata": {},
     "output_type": "execute_result"
    }
   ],
   "source": [
    "import pandas as pd\n",
    "import os, time,json\n",
    "import tmdbsimple as tmdb\n",
    "from tqdm.notebook import tqdm_notebook\n",
    "\n",
    "FOLDER = \"Data/\"\n",
    "os.makedirs(FOLDER, exist_ok=True)\n",
    "os.listdir(FOLDER)"
   ]
  },
  {
   "cell_type": "code",
   "execution_count": 9,
   "id": "f072f105",
   "metadata": {},
   "outputs": [
    {
     "data": {
      "text/plain": [
       "dict_keys(['client-id', 'Api-key'])"
      ]
     },
     "execution_count": 9,
     "metadata": {},
     "output_type": "execute_result"
    }
   ],
   "source": [
    "import json\n",
    "with open('/Users/christinab/.secret/tmdb_api.json', 'r') as f:\n",
    "    login = json.load(f)\n",
    "## Display the keys of the loaded dict\n",
    "login.keys()"
   ]
  },
  {
   "cell_type": "code",
   "execution_count": 10,
   "id": "02d5d5e3",
   "metadata": {},
   "outputs": [],
   "source": [
    "#make a movie object using the .Movies function from tmdb\n",
    "tmdb.API_Key = login['Api-key']"
   ]
  },
  {
   "cell_type": "code",
   "execution_count": 11,
   "id": "352cff05",
   "metadata": {},
   "outputs": [
    {
     "data": {
      "text/html": [
       "<div>\n",
       "<style scoped>\n",
       "    .dataframe tbody tr th:only-of-type {\n",
       "        vertical-align: middle;\n",
       "    }\n",
       "\n",
       "    .dataframe tbody tr th {\n",
       "        vertical-align: top;\n",
       "    }\n",
       "\n",
       "    .dataframe thead th {\n",
       "        text-align: right;\n",
       "    }\n",
       "</style>\n",
       "<table border=\"1\" class=\"dataframe\">\n",
       "  <thead>\n",
       "    <tr style=\"text-align: right;\">\n",
       "      <th></th>\n",
       "      <th>tconst</th>\n",
       "      <th>titleType</th>\n",
       "      <th>primaryTitle</th>\n",
       "      <th>originalTitle</th>\n",
       "      <th>isAdult</th>\n",
       "      <th>startYear</th>\n",
       "      <th>endYear</th>\n",
       "      <th>runtimeMinutes</th>\n",
       "      <th>genres</th>\n",
       "    </tr>\n",
       "  </thead>\n",
       "  <tbody>\n",
       "    <tr>\n",
       "      <th>0</th>\n",
       "      <td>tt0119830</td>\n",
       "      <td>movie</td>\n",
       "      <td>One Dog Day</td>\n",
       "      <td>One Dog Day</td>\n",
       "      <td>0</td>\n",
       "      <td>2022</td>\n",
       "      <td>NaN</td>\n",
       "      <td>101</td>\n",
       "      <td>Action,Comedy</td>\n",
       "    </tr>\n",
       "    <tr>\n",
       "      <th>1</th>\n",
       "      <td>tt0120589</td>\n",
       "      <td>movie</td>\n",
       "      <td>A Dangerous Practice</td>\n",
       "      <td>A Dangerous Practice</td>\n",
       "      <td>0</td>\n",
       "      <td>2022</td>\n",
       "      <td>NaN</td>\n",
       "      <td>108</td>\n",
       "      <td>Drama</td>\n",
       "    </tr>\n",
       "    <tr>\n",
       "      <th>2</th>\n",
       "      <td>tt0200940</td>\n",
       "      <td>movie</td>\n",
       "      <td>Over-sexed Rugsuckers from Mars</td>\n",
       "      <td>Over-sexed Rugsuckers from Mars</td>\n",
       "      <td>0</td>\n",
       "      <td>2022</td>\n",
       "      <td>NaN</td>\n",
       "      <td>87</td>\n",
       "      <td>Comedy,Sci-Fi</td>\n",
       "    </tr>\n",
       "    <tr>\n",
       "      <th>3</th>\n",
       "      <td>tt0265705</td>\n",
       "      <td>movie</td>\n",
       "      <td>Saurians</td>\n",
       "      <td>Saurians</td>\n",
       "      <td>0</td>\n",
       "      <td>2022</td>\n",
       "      <td>NaN</td>\n",
       "      <td>83</td>\n",
       "      <td>Action,Sci-Fi</td>\n",
       "    </tr>\n",
       "    <tr>\n",
       "      <th>4</th>\n",
       "      <td>tt0283145</td>\n",
       "      <td>movie</td>\n",
       "      <td>Wielka droga</td>\n",
       "      <td>Wielka droga</td>\n",
       "      <td>0</td>\n",
       "      <td>2022</td>\n",
       "      <td>NaN</td>\n",
       "      <td>87</td>\n",
       "      <td>Drama,War</td>\n",
       "    </tr>\n",
       "  </tbody>\n",
       "</table>\n",
       "</div>"
      ],
      "text/plain": [
       "      tconst titleType                     primaryTitle  \\\n",
       "0  tt0119830     movie                      One Dog Day   \n",
       "1  tt0120589     movie             A Dangerous Practice   \n",
       "2  tt0200940     movie  Over-sexed Rugsuckers from Mars   \n",
       "3  tt0265705     movie                         Saurians   \n",
       "4  tt0283145     movie                     Wielka droga   \n",
       "\n",
       "                     originalTitle  isAdult  startYear  endYear  \\\n",
       "0                      One Dog Day        0       2022      NaN   \n",
       "1             A Dangerous Practice        0       2022      NaN   \n",
       "2  Over-sexed Rugsuckers from Mars        0       2022      NaN   \n",
       "3                         Saurians        0       2022      NaN   \n",
       "4                     Wielka droga        0       2022      NaN   \n",
       "\n",
       "   runtimeMinutes         genres  \n",
       "0             101  Action,Comedy  \n",
       "1             108          Drama  \n",
       "2              87  Comedy,Sci-Fi  \n",
       "3              83  Action,Sci-Fi  \n",
       "4              87      Drama,War  "
      ]
     },
     "execution_count": 11,
     "metadata": {},
     "output_type": "execute_result"
    }
   ],
   "source": [
    "#load dataframe from project part 1 as basics:\n",
    "basics = pd.read_csv('Data/ratings_cleaned.akas.tsv.gz')\n",
    "basics.head()"
   ]
  }
 ],
 "metadata": {
  "kernelspec": {
   "display_name": "Python (dojo-env)",
   "language": "python",
   "name": "dojo-env"
  },
  "language_info": {
   "codemirror_mode": {
    "name": "ipython",
    "version": 3
   },
   "file_extension": ".py",
   "mimetype": "text/x-python",
   "name": "python",
   "nbconvert_exporter": "python",
   "pygments_lexer": "ipython3",
   "version": "3.8.13"
  },
  "toc": {
   "base_numbering": 1,
   "nav_menu": {},
   "number_sections": true,
   "sideBar": true,
   "skip_h1_title": false,
   "title_cell": "Table of Contents",
   "title_sidebar": "Contents",
   "toc_cell": false,
   "toc_position": {},
   "toc_section_display": true,
   "toc_window_display": false
  }
 },
 "nbformat": 4,
 "nbformat_minor": 5
}
