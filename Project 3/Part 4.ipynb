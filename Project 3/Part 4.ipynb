{
 "cells": [
  {
   "cell_type": "code",
   "execution_count": 1,
   "id": "0f116053",
   "metadata": {},
   "outputs": [
    {
     "name": "stdout",
     "output_type": "stream",
     "text": [
      "Requirement already satisfied: tmdbsimple in /Users/christinab/opt/anaconda3/envs/dojo-env/lib/python3.8/site-packages (2.9.1)\n",
      "Requirement already satisfied: requests in /Users/christinab/opt/anaconda3/envs/dojo-env/lib/python3.8/site-packages (from tmdbsimple) (2.28.1)\n",
      "Requirement already satisfied: urllib3<1.27,>=1.21.1 in /Users/christinab/opt/anaconda3/envs/dojo-env/lib/python3.8/site-packages (from requests->tmdbsimple) (1.26.8)\n",
      "Requirement already satisfied: idna<4,>=2.5 in /Users/christinab/opt/anaconda3/envs/dojo-env/lib/python3.8/site-packages (from requests->tmdbsimple) (3.3)\n",
      "Requirement already satisfied: certifi>=2017.4.17 in /Users/christinab/opt/anaconda3/envs/dojo-env/lib/python3.8/site-packages (from requests->tmdbsimple) (2022.9.24)\n",
      "Requirement already satisfied: charset-normalizer<3,>=2 in /Users/christinab/opt/anaconda3/envs/dojo-env/lib/python3.8/site-packages (from requests->tmdbsimple) (2.1.1)\n"
     ]
    },
    {
     "data": {
      "text/plain": [
       "['title_basics_cleaned.csv.gz',\n",
       " 'title.akas.tsv.gz',\n",
       " 'title.ratings (1).tsv',\n",
       " 'years_to_get.csv.gz',\n",
       " 'ratings.akas.tsv.gz',\n",
       " 'tmdb_api_results_2000.json',\n",
       " 'final_tmdb_data_2000.csv.gz',\n",
       " 'title_basics.csv.gz',\n",
       " 'tmdb_api_results_[2000, 2001].json',\n",
       " 'final_tmdb_data_[2000, 2001].csv.gz',\n",
       " 'ratings_cleaned.akas.tsv.gz',\n",
       " '.ipynb_checkpoints',\n",
       " \"tmdb_api_results_['2000'].json\"]"
      ]
     },
     "execution_count": 1,
     "metadata": {},
     "output_type": "execute_result"
    }
   ],
   "source": [
    "# Standard Imports\n",
    "import numpy as np\n",
    "import pandas as pd\n",
    "import matplotlib.pyplot as plt\n",
    "import seaborn as sns\n",
    "\n",
    "# Additional Imports\n",
    "\n",
    "import os, json, math, time\n",
    "!pip install tmdbsimple\n",
    "\n",
    "FOLDER = \"Data/\"\n",
    "os.makedirs(FOLDER, exist_ok=True)\n",
    "os.listdir(FOLDER)"
   ]
  },
  {
   "cell_type": "code",
   "execution_count": 2,
   "id": "2f1050bf",
   "metadata": {},
   "outputs": [
    {
     "data": {
      "text/plain": [
       "dict_keys(['client-id', 'Api-key'])"
      ]
     },
     "execution_count": 2,
     "metadata": {},
     "output_type": "execute_result"
    }
   ],
   "source": [
    "import json\n",
    "with open('/Users/christinab/.secret/tmdb_api.json', 'r') as f:\n",
    "    login = json.load(f)\n",
    "## Display the keys of the loaded dict\n",
    "login.keys()"
   ]
  },
  {
   "cell_type": "code",
   "execution_count": 3,
   "id": "eb698397",
   "metadata": {},
   "outputs": [],
   "source": [
    "# setting app key\n",
    "import tmdbsimple as tmdb\n",
    "tmdb.API_KEY =  login['Api-key']"
   ]
  },
  {
   "cell_type": "code",
   "execution_count": null,
   "id": "dd101989",
   "metadata": {},
   "outputs": [],
   "source": []
  }
 ],
 "metadata": {
  "kernelspec": {
   "display_name": "Python (dojo-env)",
   "language": "python",
   "name": "dojo-env"
  },
  "language_info": {
   "codemirror_mode": {
    "name": "ipython",
    "version": 3
   },
   "file_extension": ".py",
   "mimetype": "text/x-python",
   "name": "python",
   "nbconvert_exporter": "python",
   "pygments_lexer": "ipython3",
   "version": "3.8.13"
  },
  "toc": {
   "base_numbering": 1,
   "nav_menu": {},
   "number_sections": true,
   "sideBar": true,
   "skip_h1_title": false,
   "title_cell": "Table of Contents",
   "title_sidebar": "Contents",
   "toc_cell": false,
   "toc_position": {},
   "toc_section_display": true,
   "toc_window_display": false
  }
 },
 "nbformat": 4,
 "nbformat_minor": 5
}
