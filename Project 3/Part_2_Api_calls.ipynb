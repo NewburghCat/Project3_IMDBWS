{
 "cells": [
  {
   "cell_type": "code",
   "execution_count": 1,
   "id": "c84cfff2",
   "metadata": {},
   "outputs": [
    {
     "name": "stdout",
     "output_type": "stream",
     "text": [
      "Requirement already satisfied: tmdbsimple in /Users/christinab/opt/anaconda3/envs/dojo-env/lib/python3.8/site-packages (2.9.1)\n",
      "Requirement already satisfied: requests in /Users/christinab/opt/anaconda3/envs/dojo-env/lib/python3.8/site-packages (from tmdbsimple) (2.28.1)\n",
      "Requirement already satisfied: charset-normalizer<3,>=2 in /Users/christinab/opt/anaconda3/envs/dojo-env/lib/python3.8/site-packages (from requests->tmdbsimple) (2.1.1)\n",
      "Requirement already satisfied: certifi>=2017.4.17 in /Users/christinab/opt/anaconda3/envs/dojo-env/lib/python3.8/site-packages (from requests->tmdbsimple) (2022.9.24)\n",
      "Requirement already satisfied: idna<4,>=2.5 in /Users/christinab/opt/anaconda3/envs/dojo-env/lib/python3.8/site-packages (from requests->tmdbsimple) (3.3)\n",
      "Requirement already satisfied: urllib3<1.27,>=1.21.1 in /Users/christinab/opt/anaconda3/envs/dojo-env/lib/python3.8/site-packages (from requests->tmdbsimple) (1.26.8)\n"
     ]
    }
   ],
   "source": [
    "# Standard Imports\n",
    "import numpy as np\n",
    "import pandas as pd\n",
    "import matplotlib.pyplot as plt\n",
    "import seaborn as sns\n",
    "\n",
    "# Additional Imports\n",
    "\n",
    "import os, json, math, time\n",
    "!pip install tmdbsimple"
   ]
  },
  {
   "cell_type": "code",
   "execution_count": 2,
   "id": "3cce1df5",
   "metadata": {},
   "outputs": [
    {
     "data": {
      "text/plain": [
       "dict_keys(['client-id', 'Api-key'])"
      ]
     },
     "execution_count": 2,
     "metadata": {},
     "output_type": "execute_result"
    }
   ],
   "source": [
    "import json\n",
    "with open('/Users/christinab/.secret/tmdb_api.json', 'r') as f:\n",
    "    login = json.load(f)\n",
    "## Display the keys of the loaded dict\n",
    "login.keys()"
   ]
  },
  {
   "cell_type": "code",
   "execution_count": 3,
   "id": "bd256dbe",
   "metadata": {},
   "outputs": [],
   "source": [
    "# setting app key\n",
    "import tmdbsimple as tmdb\n",
    "tmdb.API_KEY =  login['Api-key']"
   ]
  },
  {
   "cell_type": "code",
   "execution_count": 4,
   "id": "ef7e9d02",
   "metadata": {},
   "outputs": [],
   "source": [
    "## make a movie object using the .Movies function from tmdb\n",
    "## \"The Advengers\" \n",
    "movie = tmdb.Movies(10751)"
   ]
  },
  {
   "cell_type": "code",
   "execution_count": 5,
   "id": "6c45f14b",
   "metadata": {},
   "outputs": [
    {
     "data": {
      "text/plain": [
       "{'adult': False,\n",
       " 'backdrop_path': '/gShzQKKPj7ylPQojFPEEcExs6cy.jpg',\n",
       " 'belongs_to_collection': {'id': 95891,\n",
       "  'name': 'In China They Eat Dogs Collection',\n",
       "  'poster_path': '/ws7sHs7oVSoVgrLTlEitJ2mJGR8.jpg',\n",
       "  'backdrop_path': '/jeH6MaDD1CnZ8TLupBAi0DYWn2F.jpg'},\n",
       " 'budget': 0,\n",
       " 'genres': [{'id': 28, 'name': 'Action'},\n",
       "  {'id': 35, 'name': 'Comedy'},\n",
       "  {'id': 80, 'name': 'Crime'},\n",
       "  {'id': 53, 'name': 'Thriller'}],\n",
       " 'homepage': '',\n",
       " 'id': 10751,\n",
       " 'imdb_id': 'tt0246692',\n",
       " 'original_language': 'da',\n",
       " 'original_title': 'Gamle mænd i nye biler',\n",
       " 'overview': 'The last wish of the dying \"Monk\" is for his foster child, Harald, to find his real son, Ludvig. But the latter is currently in a Swedish prison cell...',\n",
       " 'popularity': 5.514,\n",
       " 'poster_path': '/n2KH5TlEcYPvinmwsJj4ULc1xDO.jpg',\n",
       " 'production_companies': [{'id': 2105,\n",
       "   'logo_path': '/48jOgfdOkjNXwHPhbtpHj1H8kRt.png',\n",
       "   'name': 'Thura Film',\n",
       "   'origin_country': 'DK'}],\n",
       " 'production_countries': [{'iso_3166_1': 'DK', 'name': 'Denmark'}],\n",
       " 'release_date': '2002-07-12',\n",
       " 'revenue': 144192,\n",
       " 'runtime': 95,\n",
       " 'spoken_languages': [{'english_name': 'Danish',\n",
       "   'iso_639_1': 'da',\n",
       "   'name': 'Dansk'},\n",
       "  {'english_name': 'Serbian', 'iso_639_1': 'sr', 'name': 'Srpski'},\n",
       "  {'english_name': 'Swedish', 'iso_639_1': 'sv', 'name': 'svenska'}],\n",
       " 'status': 'Released',\n",
       " 'tagline': '',\n",
       " 'title': 'Old Men in New Cars: In China They Eat Dogs II',\n",
       " 'video': False,\n",
       " 'vote_average': 6.721,\n",
       " 'vote_count': 86}"
      ]
     },
     "execution_count": 5,
     "metadata": {},
     "output_type": "execute_result"
    }
   ],
   "source": [
    "## movie objects have a .info dictionary \n",
    "AVinfo = movie.info()\n",
    "AVinfo"
   ]
  },
  {
   "cell_type": "code",
   "execution_count": 6,
   "id": "877a7aff",
   "metadata": {},
   "outputs": [
    {
     "data": {
      "text/plain": [
       "0"
      ]
     },
     "execution_count": 6,
     "metadata": {},
     "output_type": "execute_result"
    }
   ],
   "source": [
    "# 'The Avengers'\n",
    "AVinfo['budget']"
   ]
  },
  {
   "cell_type": "code",
   "execution_count": 7,
   "id": "e9e7d7a3",
   "metadata": {},
   "outputs": [
    {
     "data": {
      "text/plain": [
       "1518815515"
      ]
     },
     "execution_count": 7,
     "metadata": {},
     "output_type": "execute_result"
    }
   ],
   "source": [
    "# 'The Avengers'\n",
    "movie = tmdb.Movies('tt0848228')\n",
    "info_1 = movie.info()\n",
    "info_1['revenue']"
   ]
  },
  {
   "cell_type": "code",
   "execution_count": 8,
   "id": "b6b286d7",
   "metadata": {
    "scrolled": true
   },
   "outputs": [
    {
     "data": {
      "text/plain": [
       "'tt0246692'"
      ]
     },
     "execution_count": 8,
     "metadata": {},
     "output_type": "execute_result"
    }
   ],
   "source": [
    "# 'The Avengers'\n",
    "AVinfo['imdb_id']"
   ]
  },
  {
   "cell_type": "code",
   "execution_count": 9,
   "id": "cb3f511b",
   "metadata": {},
   "outputs": [
    {
     "data": {
      "text/plain": [
       "220000000"
      ]
     },
     "execution_count": 9,
     "metadata": {},
     "output_type": "execute_result"
    }
   ],
   "source": [
    "# 'The Avengers'\n",
    "movie_2 = tmdb.Movies('tt0332280')\n",
    "info = movie.info()\n",
    "info['budget']"
   ]
  },
  {
   "cell_type": "code",
   "execution_count": 10,
   "id": "3b5350af",
   "metadata": {},
   "outputs": [],
   "source": [
    "## make a movie object using the .Movies function from tmdb\n",
    "## \"The Notebook\" \n",
    "movie2 = tmdb.Movies(10749)"
   ]
  },
  {
   "cell_type": "code",
   "execution_count": 11,
   "id": "1f1a4e28",
   "metadata": {},
   "outputs": [
    {
     "data": {
      "text/plain": [
       "{'adult': False,\n",
       " 'backdrop_path': '/qom1SZSENdmHFNZBXbtJAU0WTlC.jpg',\n",
       " 'belongs_to_collection': None,\n",
       " 'budget': 29000000,\n",
       " 'genres': [{'id': 10749, 'name': 'Romance'}, {'id': 18, 'name': 'Drama'}],\n",
       " 'homepage': 'http://www.newline.com/properties/notebookthe.html',\n",
       " 'id': 11036,\n",
       " 'imdb_id': 'tt0332280',\n",
       " 'original_language': 'en',\n",
       " 'original_title': 'The Notebook',\n",
       " 'overview': \"An epic love story centered around an older man who reads aloud to a woman with Alzheimer's. From a faded notebook, the old man's words bring to life the story about a couple who is separated by World War II, and is then passionately reunited, seven years later, after they have taken different paths.\",\n",
       " 'popularity': 62.882,\n",
       " 'poster_path': '/rNzQyW4f8B8cQeg7Dgj3n6eT5k9.jpg',\n",
       " 'production_companies': [{'id': 12,\n",
       "   'logo_path': '/iaYpEp3LQmb8AfAtmTvpqd4149c.png',\n",
       "   'name': 'New Line Cinema',\n",
       "   'origin_country': 'US'},\n",
       "  {'id': 1565, 'logo_path': None, 'name': 'Avery Pix', 'origin_country': 'US'},\n",
       "  {'id': 2605,\n",
       "   'logo_path': None,\n",
       "   'name': 'Gran Via Productions',\n",
       "   'origin_country': 'US'}],\n",
       " 'production_countries': [{'iso_3166_1': 'US',\n",
       "   'name': 'United States of America'}],\n",
       " 'release_date': '2004-06-25',\n",
       " 'revenue': 115603229,\n",
       " 'runtime': 123,\n",
       " 'spoken_languages': [{'english_name': 'English',\n",
       "   'iso_639_1': 'en',\n",
       "   'name': 'English'}],\n",
       " 'status': 'Released',\n",
       " 'tagline': 'Behind every great love is a great story.',\n",
       " 'title': 'The Notebook',\n",
       " 'video': False,\n",
       " 'vote_average': 7.9,\n",
       " 'vote_count': 9897}"
      ]
     },
     "execution_count": 11,
     "metadata": {},
     "output_type": "execute_result"
    }
   ],
   "source": [
    "# 'The Notebook'\n",
    "movie_2 = tmdb.Movies('tt0332280')\n",
    "info = movie_2.info()\n",
    "info"
   ]
  },
  {
   "cell_type": "code",
   "execution_count": 12,
   "id": "956f88d2",
   "metadata": {},
   "outputs": [
    {
     "data": {
      "text/plain": [
       "29000000"
      ]
     },
     "execution_count": 12,
     "metadata": {},
     "output_type": "execute_result"
    }
   ],
   "source": [
    "# 'The Notebook'\n",
    "movie = tmdb.Movies('tt0332280')\n",
    "NBinfo = movie.info()\n",
    "NBinfo['budget']"
   ]
  },
  {
   "cell_type": "code",
   "execution_count": 13,
   "id": "3d081fa1",
   "metadata": {},
   "outputs": [
    {
     "data": {
      "text/plain": [
       "'tt0332280'"
      ]
     },
     "execution_count": 13,
     "metadata": {},
     "output_type": "execute_result"
    }
   ],
   "source": [
    "# 'The Notebook'\n",
    "NBinfo['imdb_id']"
   ]
  },
  {
   "cell_type": "code",
   "execution_count": 14,
   "id": "ffd8ea74",
   "metadata": {},
   "outputs": [
    {
     "data": {
      "text/plain": [
       "115603229"
      ]
     },
     "execution_count": 14,
     "metadata": {},
     "output_type": "execute_result"
    }
   ],
   "source": [
    "# 'The Notebook'\n",
    "movie = tmdb.Movies('tt0332280')\n",
    "info_1 = movie.info()\n",
    "info_1['revenue']"
   ]
  },
  {
   "cell_type": "code",
   "execution_count": 15,
   "id": "526a320d",
   "metadata": {},
   "outputs": [],
   "source": [
    "# Define your functions\n",
    "\n",
    "def write_json(new_data, filename):\n",
    "    '''Adapted from source = https://github.com/celiao/tmdbsimple'''\n",
    "    # Get the movie object for the current id\n",
    "    movie = tmdb.Movies(movie_id)\n",
    "    \n",
    "    # save the .info .releases dictionaries \n",
    "    AVinfo = movie.info()\n",
    "    \n",
    "    releases = movie.releases()\n",
    "    #Loop through countries in releases\n",
    "    for c in releases['countries']:\n",
    "        # if the country abbreviation==US\n",
    "        if c['iso_3166_1'] == 'US':\n",
    "            ## save a 'certification' key in info with the certification\n",
    "            info['certification']= c['certification']\n",
    "            \n",
    "        return info"
   ]
  },
  {
   "cell_type": "markdown",
   "id": "bd865962",
   "metadata": {},
   "source": [
    "#### Your stakeholder wants you to extract the budget, revenue, and MPAA Rating (G/PG/PG-13/R), which is also called \"Certification\"."
   ]
  },
  {
   "cell_type": "code",
   "execution_count": 16,
   "id": "c6a87efa",
   "metadata": {},
   "outputs": [
    {
     "name": "stdout",
     "output_type": "stream",
     "text": [
      "PG-13\n"
     ]
    }
   ],
   "source": [
    "# adapted from learning platform \n",
    "# example from package README\n",
    "# source = https://github.com/celiao/tmdbsimple\n",
    "response = movie.releases()\n",
    "for c in movie.countries:\n",
    "    if c['iso_3166_1'] == 'US':\n",
    "        print(c['certification'])"
   ]
  },
  {
   "cell_type": "code",
   "execution_count": 17,
   "id": "948668c6",
   "metadata": {},
   "outputs": [],
   "source": [
    "# saving the movie certification/MPAA Rating\n",
    "# create a function that wraps the movie.info \n",
    "\n",
    "def get_movie_with_rating(movie_id):\n",
    "    '''Adapted from coding dojo learning platform'''\n",
    "    movie = tmdb.Movies(movie_id)\n",
    "    \n",
    "    #save the .info .releases dictionaries\n",
    "    info = movie.info()\n",
    "    \n",
    "    releases = movie.releases()\n",
    "    #loop through countires in releases\n",
    "    \n",
    "    for c in releases['countries']:\n",
    "        \n",
    "        #if the country abbreviation==US\n",
    "        if c['iso_3166_1']== 'US':\n",
    "            \n",
    "            ##save a 'certification' key in info with the certification\n",
    "            info['certification'] =c['certification']\n",
    "            \n",
    "        return info"
   ]
  },
  {
   "cell_type": "code",
   "execution_count": 18,
   "id": "11eb5bd1",
   "metadata": {},
   "outputs": [
    {
     "data": {
      "text/plain": [
       "{'adult': False,\n",
       " 'backdrop_path': '/qom1SZSENdmHFNZBXbtJAU0WTlC.jpg',\n",
       " 'belongs_to_collection': None,\n",
       " 'budget': 29000000,\n",
       " 'genres': [{'id': 10749, 'name': 'Romance'}, {'id': 18, 'name': 'Drama'}],\n",
       " 'homepage': 'http://www.newline.com/properties/notebookthe.html',\n",
       " 'id': 11036,\n",
       " 'imdb_id': 'tt0332280',\n",
       " 'original_language': 'en',\n",
       " 'original_title': 'The Notebook',\n",
       " 'overview': \"An epic love story centered around an older man who reads aloud to a woman with Alzheimer's. From a faded notebook, the old man's words bring to life the story about a couple who is separated by World War II, and is then passionately reunited, seven years later, after they have taken different paths.\",\n",
       " 'popularity': 62.882,\n",
       " 'poster_path': '/rNzQyW4f8B8cQeg7Dgj3n6eT5k9.jpg',\n",
       " 'production_companies': [{'id': 12,\n",
       "   'logo_path': '/iaYpEp3LQmb8AfAtmTvpqd4149c.png',\n",
       "   'name': 'New Line Cinema',\n",
       "   'origin_country': 'US'},\n",
       "  {'id': 1565, 'logo_path': None, 'name': 'Avery Pix', 'origin_country': 'US'},\n",
       "  {'id': 2605,\n",
       "   'logo_path': None,\n",
       "   'name': 'Gran Via Productions',\n",
       "   'origin_country': 'US'}],\n",
       " 'production_countries': [{'iso_3166_1': 'US',\n",
       "   'name': 'United States of America'}],\n",
       " 'release_date': '2004-06-25',\n",
       " 'revenue': 115603229,\n",
       " 'runtime': 123,\n",
       " 'spoken_languages': [{'english_name': 'English',\n",
       "   'iso_639_1': 'en',\n",
       "   'name': 'English'}],\n",
       " 'status': 'Released',\n",
       " 'tagline': 'Behind every great love is a great story.',\n",
       " 'title': 'The Notebook',\n",
       " 'video': False,\n",
       " 'vote_average': 7.9,\n",
       " 'vote_count': 9897}"
      ]
     },
     "execution_count": 18,
     "metadata": {},
     "output_type": "execute_result"
    }
   ],
   "source": [
    "info"
   ]
  },
  {
   "cell_type": "code",
   "execution_count": 19,
   "id": "9ff6df72",
   "metadata": {},
   "outputs": [
    {
     "data": {
      "text/plain": [
       "{'adult': False,\n",
       " 'backdrop_path': '/9BBTo63ANSmhC4e6r62OJFuK2GL.jpg',\n",
       " 'belongs_to_collection': {'id': 86311,\n",
       "  'name': 'The Avengers Collection',\n",
       "  'poster_path': '/yFSIUVTCvgYrpalUktulvk3Gi5Y.jpg',\n",
       "  'backdrop_path': '/zuW6fOiusv4X9nnW3paHGfXcSll.jpg'},\n",
       " 'budget': 220000000,\n",
       " 'genres': [{'id': 878, 'name': 'Science Fiction'},\n",
       "  {'id': 28, 'name': 'Action'},\n",
       "  {'id': 12, 'name': 'Adventure'}],\n",
       " 'homepage': 'https://www.marvel.com/movies/the-avengers',\n",
       " 'id': 24428,\n",
       " 'imdb_id': 'tt0848228',\n",
       " 'original_language': 'en',\n",
       " 'original_title': 'The Avengers',\n",
       " 'overview': 'When an unexpected enemy emerges and threatens global safety and security, Nick Fury, director of the international peacekeeping agency known as S.H.I.E.L.D., finds himself in need of a team to pull the world back from the brink of disaster. Spanning the globe, a daring recruitment effort begins!',\n",
       " 'popularity': 221.907,\n",
       " 'poster_path': '/RYMX2wcKCBAr24UyPD7xwmjaTn.jpg',\n",
       " 'production_companies': [{'id': 420,\n",
       "   'logo_path': '/hUzeosd33nzE5MCNsZxCGEKTXaQ.png',\n",
       "   'name': 'Marvel Studios',\n",
       "   'origin_country': 'US'}],\n",
       " 'production_countries': [{'iso_3166_1': 'US',\n",
       "   'name': 'United States of America'}],\n",
       " 'release_date': '2012-04-25',\n",
       " 'revenue': 1518815515,\n",
       " 'runtime': 143,\n",
       " 'spoken_languages': [{'english_name': 'English',\n",
       "   'iso_639_1': 'en',\n",
       "   'name': 'English'},\n",
       "  {'english_name': 'Hindi', 'iso_639_1': 'hi', 'name': 'हिन्दी'},\n",
       "  {'english_name': 'Russian', 'iso_639_1': 'ru', 'name': 'Pусский'}],\n",
       " 'status': 'Released',\n",
       " 'tagline': 'Some assembly required.',\n",
       " 'title': 'The Avengers',\n",
       " 'video': False,\n",
       " 'vote_average': 7.707,\n",
       " 'vote_count': 27717,\n",
       " 'certification': 'PG-13'}"
      ]
     },
     "execution_count": 19,
     "metadata": {},
     "output_type": "execute_result"
    }
   ],
   "source": [
    "test = get_movie_with_rating('tt0848228')\n",
    "test"
   ]
  },
  {
   "cell_type": "markdown",
   "id": "b19c80ed",
   "metadata": {},
   "source": [
    "### Designate a folder"
   ]
  },
  {
   "cell_type": "code",
   "execution_count": 20,
   "id": "7a22edce",
   "metadata": {
    "scrolled": true
   },
   "outputs": [
    {
     "data": {
      "text/plain": [
       "['title_basics_cleaned.csv.gz',\n",
       " 'title.akas.tsv.gz',\n",
       " 'title.ratings (1).tsv',\n",
       " 'years_to_get.csv.gz',\n",
       " 'ratings.akas.tsv.gz',\n",
       " 'tmdb_api_results_2000.json',\n",
       " 'final_tmdb_data_2000.csv.gz',\n",
       " 'title_basics.csv.gz',\n",
       " 'tmdb_api_results_[2000, 2001].json',\n",
       " 'final_tmdb_data_[2000, 2001].csv.gz',\n",
       " 'ratings_cleaned.akas.tsv.gz',\n",
       " '.ipynb_checkpoints',\n",
       " \"tmdb_api_results_['2000'].json\"]"
      ]
     },
     "execution_count": 20,
     "metadata": {},
     "output_type": "execute_result"
    }
   ],
   "source": [
    "import os, time,json\n",
    "import tmdbsimple as tmdb\n",
    "from tqdm.notebook import tqdm_notebook\n",
    "\n",
    "FOLDER = \"Data/\"\n",
    "os.makedirs(FOLDER, exist_ok=True)\n",
    "os.listdir(FOLDER)"
   ]
  },
  {
   "cell_type": "code",
   "execution_count": 21,
   "id": "8100577a",
   "metadata": {},
   "outputs": [],
   "source": [
    "#make a movie object using the .Movies function from tmdb\n",
    "tmdb.API_Key = login['Api-key']"
   ]
  },
  {
   "cell_type": "code",
   "execution_count": 22,
   "id": "701eec95",
   "metadata": {},
   "outputs": [
    {
     "data": {
      "text/plain": [
       "{'adult': False,\n",
       " 'backdrop_path': '/l4QHerTSbMI7qgvasqxP36pqjN6.jpg',\n",
       " 'belongs_to_collection': {'id': 2344,\n",
       "  'name': 'The Matrix Collection',\n",
       "  'poster_path': '/bV9qTVHTVf0gkW0j7p7M0ILD4pG.jpg',\n",
       "  'backdrop_path': '/bRm2DEgUiYciDw3myHuYFInD7la.jpg'},\n",
       " 'budget': 63000000,\n",
       " 'genres': [{'id': 28, 'name': 'Action'},\n",
       "  {'id': 878, 'name': 'Science Fiction'}],\n",
       " 'homepage': 'http://www.warnerbros.com/matrix',\n",
       " 'id': 603,\n",
       " 'imdb_id': 'tt0133093',\n",
       " 'original_language': 'en',\n",
       " 'original_title': 'The Matrix',\n",
       " 'overview': 'Set in the 22nd century, The Matrix tells the story of a computer hacker who joins a group of underground insurgents fighting the vast and powerful computers who now rule the earth.',\n",
       " 'popularity': 59.542,\n",
       " 'poster_path': '/f89U3ADr1oiB1s9GkdPOEpXUk5H.jpg',\n",
       " 'production_companies': [{'id': 79,\n",
       "   'logo_path': '/tpFpsqbleCzEE2p5EgvUq6ozfCA.png',\n",
       "   'name': 'Village Roadshow Pictures',\n",
       "   'origin_country': 'US'},\n",
       "  {'id': 174,\n",
       "   'logo_path': '/IuAlhI9eVC9Z8UQWOIDdWRKSEJ.png',\n",
       "   'name': 'Warner Bros. Pictures',\n",
       "   'origin_country': 'US'},\n",
       "  {'id': 372,\n",
       "   'logo_path': None,\n",
       "   'name': 'Groucho II Film Partnership',\n",
       "   'origin_country': ''},\n",
       "  {'id': 1885,\n",
       "   'logo_path': '/tXMFoE8AtNdnFzWOW0aCLwl7xxS.png',\n",
       "   'name': 'Silver Pictures',\n",
       "   'origin_country': 'US'}],\n",
       " 'production_countries': [{'iso_3166_1': 'US',\n",
       "   'name': 'United States of America'}],\n",
       " 'release_date': '1999-03-30',\n",
       " 'revenue': 463517383,\n",
       " 'runtime': 136,\n",
       " 'spoken_languages': [{'english_name': 'English',\n",
       "   'iso_639_1': 'en',\n",
       "   'name': 'English'}],\n",
       " 'status': 'Released',\n",
       " 'tagline': 'Welcome to the Real World.',\n",
       " 'title': 'The Matrix',\n",
       " 'video': False,\n",
       " 'vote_average': 8.193,\n",
       " 'vote_count': 22298}"
      ]
     },
     "execution_count": 22,
     "metadata": {},
     "output_type": "execute_result"
    }
   ],
   "source": [
    "# make a movie object using the .Movies function from tmdb\n",
    "movie = tmdb.Movies(603)\n",
    "\n",
    "#movie objects have a .info dictionary\n",
    "info = movie.info()\n",
    "info"
   ]
  },
  {
   "cell_type": "code",
   "execution_count": 23,
   "id": "47950373",
   "metadata": {
    "scrolled": false
   },
   "outputs": [],
   "source": [
    "YEARS_TO_GET = [2000,2001]"
   ]
  },
  {
   "cell_type": "code",
   "execution_count": 24,
   "id": "06e71390",
   "metadata": {},
   "outputs": [
    {
     "data": {
      "text/plain": [
       "[2000, 2001]"
      ]
     },
     "execution_count": 24,
     "metadata": {},
     "output_type": "execute_result"
    }
   ],
   "source": [
    "YEAR = YEARS_TO_GET\n",
    "YEAR"
   ]
  },
  {
   "cell_type": "code",
   "execution_count": 25,
   "id": "0a7018a6",
   "metadata": {},
   "outputs": [
    {
     "data": {
      "text/html": [
       "<div>\n",
       "<style scoped>\n",
       "    .dataframe tbody tr th:only-of-type {\n",
       "        vertical-align: middle;\n",
       "    }\n",
       "\n",
       "    .dataframe tbody tr th {\n",
       "        vertical-align: top;\n",
       "    }\n",
       "\n",
       "    .dataframe thead th {\n",
       "        text-align: right;\n",
       "    }\n",
       "</style>\n",
       "<table border=\"1\" class=\"dataframe\">\n",
       "  <thead>\n",
       "    <tr style=\"text-align: right;\">\n",
       "      <th></th>\n",
       "      <th>tconst</th>\n",
       "      <th>titleType</th>\n",
       "      <th>primaryTitle</th>\n",
       "      <th>originalTitle</th>\n",
       "      <th>isAdult</th>\n",
       "      <th>startYear</th>\n",
       "      <th>endYear</th>\n",
       "      <th>runtimeMinutes</th>\n",
       "      <th>genres</th>\n",
       "    </tr>\n",
       "  </thead>\n",
       "  <tbody>\n",
       "    <tr>\n",
       "      <th>0</th>\n",
       "      <td>tt0119830</td>\n",
       "      <td>movie</td>\n",
       "      <td>One Dog Day</td>\n",
       "      <td>One Dog Day</td>\n",
       "      <td>0</td>\n",
       "      <td>2022</td>\n",
       "      <td>NaN</td>\n",
       "      <td>101</td>\n",
       "      <td>Action,Comedy</td>\n",
       "    </tr>\n",
       "    <tr>\n",
       "      <th>1</th>\n",
       "      <td>tt0120589</td>\n",
       "      <td>movie</td>\n",
       "      <td>A Dangerous Practice</td>\n",
       "      <td>A Dangerous Practice</td>\n",
       "      <td>0</td>\n",
       "      <td>2022</td>\n",
       "      <td>NaN</td>\n",
       "      <td>108</td>\n",
       "      <td>Drama</td>\n",
       "    </tr>\n",
       "    <tr>\n",
       "      <th>2</th>\n",
       "      <td>tt0200940</td>\n",
       "      <td>movie</td>\n",
       "      <td>Over-sexed Rugsuckers from Mars</td>\n",
       "      <td>Over-sexed Rugsuckers from Mars</td>\n",
       "      <td>0</td>\n",
       "      <td>2022</td>\n",
       "      <td>NaN</td>\n",
       "      <td>87</td>\n",
       "      <td>Comedy,Sci-Fi</td>\n",
       "    </tr>\n",
       "    <tr>\n",
       "      <th>3</th>\n",
       "      <td>tt0283145</td>\n",
       "      <td>movie</td>\n",
       "      <td>Wielka droga</td>\n",
       "      <td>Wielka droga</td>\n",
       "      <td>0</td>\n",
       "      <td>2022</td>\n",
       "      <td>NaN</td>\n",
       "      <td>87</td>\n",
       "      <td>Drama,War</td>\n",
       "    </tr>\n",
       "    <tr>\n",
       "      <th>4</th>\n",
       "      <td>tt0326716</td>\n",
       "      <td>movie</td>\n",
       "      <td>5-25-77</td>\n",
       "      <td>'77</td>\n",
       "      <td>0</td>\n",
       "      <td>2022</td>\n",
       "      <td>NaN</td>\n",
       "      <td>132</td>\n",
       "      <td>Comedy,Drama</td>\n",
       "    </tr>\n",
       "  </tbody>\n",
       "</table>\n",
       "</div>"
      ],
      "text/plain": [
       "      tconst titleType                     primaryTitle  \\\n",
       "0  tt0119830     movie                      One Dog Day   \n",
       "1  tt0120589     movie             A Dangerous Practice   \n",
       "2  tt0200940     movie  Over-sexed Rugsuckers from Mars   \n",
       "3  tt0283145     movie                     Wielka droga   \n",
       "4  tt0326716     movie                          5-25-77   \n",
       "\n",
       "                     originalTitle  isAdult  startYear  endYear  \\\n",
       "0                      One Dog Day        0       2022      NaN   \n",
       "1             A Dangerous Practice        0       2022      NaN   \n",
       "2  Over-sexed Rugsuckers from Mars        0       2022      NaN   \n",
       "3                     Wielka droga        0       2022      NaN   \n",
       "4                              '77        0       2022      NaN   \n",
       "\n",
       "   runtimeMinutes         genres  \n",
       "0             101  Action,Comedy  \n",
       "1             108          Drama  \n",
       "2              87  Comedy,Sci-Fi  \n",
       "3              87      Drama,War  \n",
       "4             132   Comedy,Drama  "
      ]
     },
     "execution_count": 25,
     "metadata": {},
     "output_type": "execute_result"
    }
   ],
   "source": [
    "#load dataframe from project part 1 as basics:\n",
    "basics = pd.read_csv('DATA/title_basics_cleaned.csv.gz')\n",
    "basics.head()"
   ]
  },
  {
   "cell_type": "code",
   "execution_count": 26,
   "id": "fd309b66",
   "metadata": {},
   "outputs": [],
   "source": [
    "def write_json(new_data, filename):\n",
    "    '''Adapted from source = https://github.com/celiao/tmdbsimple'''\n",
    "    # Get the movie object for the current id\n",
    "    movie = tmdb.Movies(movie_id)\n",
    "    \n",
    "    # save the .info .releases dictionaries \n",
    "    info = movie.info()\n",
    "    \n",
    "    releases = movie.releases()\n",
    "    #Loop through countries in releases\n",
    "    for c in releases['countries']:\n",
    "        # if the country abbreviation==US\n",
    "        if c['iso_3166_1'] == 'US':\n",
    "            ## save a 'certification' key in info with the certification\n",
    "            info['certification']= c['certification']\n",
    "            \n",
    "        return info"
   ]
  },
  {
   "cell_type": "code",
   "execution_count": 27,
   "id": "f62ff050",
   "metadata": {},
   "outputs": [],
   "source": [
    "errors =[]"
   ]
  },
  {
   "cell_type": "code",
   "execution_count": 28,
   "id": "f0f42a5a",
   "metadata": {
    "scrolled": false
   },
   "outputs": [
    {
     "data": {
      "application/vnd.jupyter.widget-view+json": {
       "model_id": "9b93f2dfccaa4eecaded788c11f8653b",
       "version_major": 2,
       "version_minor": 0
      },
      "text/plain": [
       "YEARS:   0%|          | 0/2 [00:00<?, ?it/s]"
      ]
     },
     "metadata": {},
     "output_type": "display_data"
    },
    {
     "data": {
      "application/vnd.jupyter.widget-view+json": {
       "model_id": "2d1b3b51a2a04766a14d99d2bf3d6773",
       "version_major": 2,
       "version_minor": 0
      },
      "text/plain": [
       "Movies from [2000, 2001]:   0%|          | 0/7766 [00:00<?, ?it/s]"
      ]
     },
     "metadata": {},
     "output_type": "display_data"
    },
    {
     "data": {
      "application/vnd.jupyter.widget-view+json": {
       "model_id": "6cfa5fa799b140dcb6056ad19b4a1ce0",
       "version_major": 2,
       "version_minor": 0
      },
      "text/plain": [
       "Movies from [2000, 2001]:   0%|          | 0/7766 [00:00<?, ?it/s]"
      ]
     },
     "metadata": {},
     "output_type": "display_data"
    }
   ],
   "source": [
    "# Start of OUTER loop\n",
    "for Year in tqdm_notebook(YEAR, desc='YEARS', position=0):\n",
    "    # Defining the JSON file to store results for year\n",
    "    JSON_FILE = f'{FOLDER}tmdb_api_results_{YEAR}.json'\n",
    "    # check if file exist\n",
    "    file_exists= os.path.isfile(JSON_FILE)\n",
    "\n",
    "    # If it does not exist: create it\n",
    "    if file_exists == False:\n",
    "        \n",
    "    # save an empty dict with just \"imdb_id\" to the new json file.\n",
    "        with open(JSON_FILE,'w') as f:\n",
    "            json.dump([{'imdb_id':0}],f)\n",
    "            \n",
    "    # saving new year as the current df\n",
    "        df = basics.loc[basics['startYear']== YEAR].copy\n",
    "\n",
    "    # saving movie ids to list\n",
    "    movie_ids = basics['tconst'].copy()#.to_list\n",
    "    movie_ids\n",
    "\n",
    "    # Load existing data from json into a dataframe called \"previous_df\"\n",
    "    previous_df = pd.read_json(JSON_FILE)\n",
    "    previous_df\n",
    "\n",
    "    # filter out any ids that are already in the JSON_FILE\n",
    "    movie_ids_to_get = movie_ids[~movie_ids.isin(previous_df['imdb_id'])]\n",
    "\n",
    "    #Get index and movie id from list\n",
    "    # INNER Loop\n",
    "    for movie_id in tqdm_notebook(movie_ids_to_get,\n",
    "                                  desc=f'Movies from {YEAR}',\n",
    "                                  position=1,\n",
    "                                  leave=True):\n",
    "        try:\n",
    "            # Retrieve then data for the movie id\n",
    "            temp = get_movie_with_rating(movie_id)  \n",
    "            # Append/extend results to existing file using a pre-made function\n",
    "            write_json(temp,JSON_FILE)\n",
    "            # Short 20 ms sleep to prevent overwhelming server\n",
    "            time.sleep(0.02)\n",
    "            \n",
    "        except Exception as e:\n",
    "             errors.append([movie_id, e])\n",
    "\n",
    "        final_year_df = pd.read_json(JSON_FILE)\n",
    "        final_year_df.to_csv(f\"{FOLDER}final_tmdb_data_{YEAR}.csv.gz\", compression=\"gzip\", index=False)"
   ]
  },
  {
   "cell_type": "code",
   "execution_count": null,
   "id": "3ea8f133",
   "metadata": {},
   "outputs": [],
   "source": []
  }
 ],
 "metadata": {
  "kernelspec": {
   "display_name": "Python (dojo-env)",
   "language": "python",
   "name": "dojo-env"
  },
  "language_info": {
   "codemirror_mode": {
    "name": "ipython",
    "version": 3
   },
   "file_extension": ".py",
   "mimetype": "text/x-python",
   "name": "python",
   "nbconvert_exporter": "python",
   "pygments_lexer": "ipython3",
   "version": "3.8.13"
  },
  "toc": {
   "base_numbering": 1,
   "nav_menu": {},
   "number_sections": true,
   "sideBar": true,
   "skip_h1_title": false,
   "title_cell": "Table of Contents",
   "title_sidebar": "Contents",
   "toc_cell": false,
   "toc_position": {},
   "toc_section_display": true,
   "toc_window_display": false
  }
 },
 "nbformat": 4,
 "nbformat_minor": 5
}
